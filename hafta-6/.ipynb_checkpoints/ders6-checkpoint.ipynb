{
 "cells": [
  {
   "cell_type": "code",
   "execution_count": null,
   "id": "ef2ca694",
   "metadata": {},
   "outputs": [],
   "source": [
    "# https://docs.aws.amazon.com/machine-learning/latest/dg/model-fit-underfitting-vs-overfitting.html\n",
    "# Bir makina öğrenmesi modelinin, eğitim verisi üzerindeki başarı performansı düşük ise UNDERFITTING,\n",
    "# Bir makina öğrenmesi modelinin, eğitim verisi üzerindeki başarı performansı yüksek ise OVERFITTING\n",
    "# UNDERFITTING ve OVERFITTING bir model için istenmeyen bir durumudur. Bu tip modeller, eğitim verisinde\n",
    "# yer almayan farklı bir veri ile karşılaştığında başarılı tahmin yapamazlar.\n",
    "# Başarılı bir model, eğitim verisi üzerinde bir genelleştirme yapmayı başarmış olmalıdır."
   ]
  },
  {
   "cell_type": "markdown",
   "id": "f69f45b4",
   "metadata": {},
   "source": [
    "## XGBOOST Algoritması"
   ]
  },
  {
   "cell_type": "code",
   "execution_count": null,
   "id": "8c916b73",
   "metadata": {},
   "outputs": [],
   "source": [
    "https://www.veribilimiokulu.com/xgboost-nasil-calisir/\n",
    "https://www.datacamp.com/community/tutorials/xgboost-in-python\n"
   ]
  }
 ],
 "metadata": {
  "kernelspec": {
   "display_name": "Python 3 (ipykernel)",
   "language": "python",
   "name": "python3"
  },
  "language_info": {
   "codemirror_mode": {
    "name": "ipython",
    "version": 3
   },
   "file_extension": ".py",
   "mimetype": "text/x-python",
   "name": "python",
   "nbconvert_exporter": "python",
   "pygments_lexer": "ipython3",
   "version": "3.9.5"
  }
 },
 "nbformat": 4,
 "nbformat_minor": 5
}
