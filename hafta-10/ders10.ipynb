{
  "nbformat": 4,
  "nbformat_minor": 0,
  "metadata": {
    "colab": {
      "name": "ders10.ipynb",
      "provenance": [],
      "collapsed_sections": []
    },
    "kernelspec": {
      "name": "python3",
      "display_name": "Python 3"
    },
    "language_info": {
      "name": "python"
    }
  },
  "cells": [
    {
      "cell_type": "code",
      "execution_count": 1,
      "metadata": {
        "colab": {
          "base_uri": "https://localhost:8080/"
        },
        "id": "b9n9D_k4ZpZk",
        "outputId": "5b47903f-62a6-4ae6-a6a6-ddd89b7b91cf"
      },
      "outputs": [
        {
          "output_type": "stream",
          "name": "stdout",
          "text": [
            "Downloading data from https://storage.googleapis.com/tensorflow/tf-keras-datasets/reuters.npz\n",
            "2113536/2110848 [==============================] - 0s 0us/step\n",
            "2121728/2110848 [==============================] - 0s 0us/step\n"
          ]
        }
      ],
      "source": [
        "# Reuters veriseti\n",
        "# https://archive.ics.uci.edu/ml/datasets/reuters-21578+text+categorization+collection\n",
        "\n",
        "from tensorflow.keras.datasets import reuters\n",
        "(train_data, train_labels),(test_data, test_labels) =reuters.load_data(num_words = 10000)"
      ]
    },
    {
      "cell_type": "code",
      "source": [
        "len(train_data)"
      ],
      "metadata": {
        "colab": {
          "base_uri": "https://localhost:8080/"
        },
        "id": "8cDXpG64awkS",
        "outputId": "eef23579-40bf-479d-bcd9-7e43229e21a1"
      },
      "execution_count": 2,
      "outputs": [
        {
          "output_type": "execute_result",
          "data": {
            "text/plain": [
              "8982"
            ]
          },
          "metadata": {},
          "execution_count": 2
        }
      ]
    },
    {
      "cell_type": "code",
      "source": [
        "len(test_data)"
      ],
      "metadata": {
        "colab": {
          "base_uri": "https://localhost:8080/"
        },
        "id": "yjdItW65a263",
        "outputId": "c3de6498-10ba-4869-914b-8137ac6503f1"
      },
      "execution_count": 3,
      "outputs": [
        {
          "output_type": "execute_result",
          "data": {
            "text/plain": [
              "2246"
            ]
          },
          "metadata": {},
          "execution_count": 3
        }
      ]
    },
    {
      "cell_type": "code",
      "source": [
        "train_data[10]"
      ],
      "metadata": {
        "colab": {
          "base_uri": "https://localhost:8080/"
        },
        "id": "nFRTG-u7a5cv",
        "outputId": "10efe35c-08da-4152-98fd-626b03054593"
      },
      "execution_count": 4,
      "outputs": [
        {
          "output_type": "execute_result",
          "data": {
            "text/plain": [
              "[1,\n",
              " 245,\n",
              " 273,\n",
              " 207,\n",
              " 156,\n",
              " 53,\n",
              " 74,\n",
              " 160,\n",
              " 26,\n",
              " 14,\n",
              " 46,\n",
              " 296,\n",
              " 26,\n",
              " 39,\n",
              " 74,\n",
              " 2979,\n",
              " 3554,\n",
              " 14,\n",
              " 46,\n",
              " 4689,\n",
              " 4329,\n",
              " 86,\n",
              " 61,\n",
              " 3499,\n",
              " 4795,\n",
              " 14,\n",
              " 61,\n",
              " 451,\n",
              " 4329,\n",
              " 17,\n",
              " 12]"
            ]
          },
          "metadata": {},
          "execution_count": 4
        }
      ]
    },
    {
      "cell_type": "code",
      "source": [
        "train_labels[10]"
      ],
      "metadata": {
        "colab": {
          "base_uri": "https://localhost:8080/"
        },
        "id": "ka8V17sma-S_",
        "outputId": "afdb337d-f3d7-4e4a-8684-164549ea606b"
      },
      "execution_count": 5,
      "outputs": [
        {
          "output_type": "execute_result",
          "data": {
            "text/plain": [
              "3"
            ]
          },
          "metadata": {},
          "execution_count": 5
        }
      ]
    },
    {
      "cell_type": "code",
      "source": [
        "kelime_index = reuters.get_word_index()"
      ],
      "metadata": {
        "colab": {
          "base_uri": "https://localhost:8080/"
        },
        "id": "PZXn_nPrbGiP",
        "outputId": "e1b82b9e-952e-4d39-e3bf-531f7e305d59"
      },
      "execution_count": 6,
      "outputs": [
        {
          "output_type": "stream",
          "name": "stdout",
          "text": [
            "Downloading data from https://storage.googleapis.com/tensorflow/tf-keras-datasets/reuters_word_index.json\n",
            "557056/550378 [==============================] - 0s 0us/step\n",
            "565248/550378 [==============================] - 0s 0us/step\n"
          ]
        }
      ]
    },
    {
      "cell_type": "code",
      "source": [
        "reverse_word_index = dict(\n",
        "    [(value, key) for (key, value) in kelime_index.items()]\n",
        ")"
      ],
      "metadata": {
        "id": "ThJWSuHcbXJA"
      },
      "execution_count": 10,
      "outputs": []
    },
    {
      "cell_type": "code",
      "source": [
        "haber_metni = \" \".join([reverse_word_index.get(i-3, \"?\") for i in train_data[10]])"
      ],
      "metadata": {
        "id": "LP_oYB8Ibm24"
      },
      "execution_count": 14,
      "outputs": []
    },
    {
      "cell_type": "code",
      "source": [
        "haber_metni"
      ],
      "metadata": {
        "colab": {
          "base_uri": "https://localhost:8080/",
          "height": 35
        },
        "id": "RAvFCo5ib3Sn",
        "outputId": "2654b698-6d09-4bff-ea7c-4bd7ba2b3748"
      },
      "execution_count": 15,
      "outputs": [
        {
          "output_type": "execute_result",
          "data": {
            "text/plain": [
              "'? period ended december 31 shr profit 11 cts vs loss 24 cts net profit 224 271 vs loss 511 349 revs 7 258 688 vs 7 200 349 reuter 3'"
            ],
            "application/vnd.google.colaboratory.intrinsic+json": {
              "type": "string"
            }
          },
          "metadata": {},
          "execution_count": 15
        }
      ]
    },
    {
      "cell_type": "code",
      "source": [
        "type(train_labels)"
      ],
      "metadata": {
        "colab": {
          "base_uri": "https://localhost:8080/"
        },
        "id": "ljKkx4FOb_PX",
        "outputId": "9ce77303-baab-4447-a5f4-378a6f9abe2d"
      },
      "execution_count": 16,
      "outputs": [
        {
          "output_type": "execute_result",
          "data": {
            "text/plain": [
              "numpy.ndarray"
            ]
          },
          "metadata": {},
          "execution_count": 16
        }
      ]
    },
    {
      "cell_type": "code",
      "source": [
        "import numpy as np"
      ],
      "metadata": {
        "id": "gaYvIsxoc1Ng"
      },
      "execution_count": 18,
      "outputs": []
    },
    {
      "cell_type": "code",
      "source": [
        "len(np.unique(train_labels)) # 46 farklı haber kategorisi"
      ],
      "metadata": {
        "colab": {
          "base_uri": "https://localhost:8080/"
        },
        "id": "JhicNDgddAth",
        "outputId": "883523d9-6c59-47d7-89bf-2ee80724d131"
      },
      "execution_count": 20,
      "outputs": [
        {
          "output_type": "execute_result",
          "data": {
            "text/plain": [
              "46"
            ]
          },
          "metadata": {},
          "execution_count": 20
        }
      ]
    },
    {
      "cell_type": "code",
      "source": [
        "\" \".join([reverse_word_index.get(i-3, \"?\") for i in train_data[100]])"
      ],
      "metadata": {
        "colab": {
          "base_uri": "https://localhost:8080/",
          "height": 157
        },
        "id": "bNzOFYkydE9X",
        "outputId": "97e9cded-6a2e-4b97-993d-a9bf96053ed6"
      },
      "execution_count": 21,
      "outputs": [
        {
          "output_type": "execute_result",
          "data": {
            "text/plain": [
              "\"? opec believes world oil prices should be set around a fixed average price of 18 dlrs a barrel ? assistant general secretary ? al wattari said today in a speech to a european community ec ? opec seminar in luxembourg released here al wattari said opec believes the world energy trade should be kept without restrictions and should be built around a fixed average price of 18 dlrs but he warned that defense of the 18 dlr a barrel level had caused hardship for opec countries who had been forced to curtail production and he warned that such cutbacks by opec states could not be sustained in some cases for opec to stabilize the world oil price at what is now considered the optimal level of 18 dlrs a barrel its member countries have had to undergo severe hardship in ? production al wattari said such cutbacks cannot in certain cases be sustained al wattari said as well as financial and marketing pressures some states depended on associated gas output for domestic use and oil cutbacks had left insufficient gas supplies he added al wattari noted that total opec output was below the organization's agreed ceiling for all member countries in february although this had meant sacrifices the effect of these sacrifices meant that market stability though restored to a good level was still under pressure al wattari said a lasting stability in the world market requires a wider scope of international cooperation he added he said some non opec oil producing countries had shown a political willingness after 1986 to cooperate with opec but although cutbacks announced by these states were politically significant and welcomed by opec they were insufficient in terms of volume he added the overall majority of non opec producers have not responded sufficiently to opec's calls for supply regulation he said al wattari said an 18 dlr a barrel price was optimal as it allowed investment in the oil industry outside opec to continue while not generating excessive cash flow for otherwise ? high cost areas outside opec such a price would no longer encourage protectionist measures he added ? al chalabi opec deputy secretary general also addressing the seminar added that discipline was still needed to prevent ? fluctuations in the oil market cooperation between arab states and europe was advantageous for both sides al chalabi said adding he hoped cooperation would ultimately lead to full ? ? arab dialogue reuter 3\""
            ],
            "application/vnd.google.colaboratory.intrinsic+json": {
              "type": "string"
            }
          },
          "metadata": {},
          "execution_count": 21
        }
      ]
    },
    {
      "cell_type": "code",
      "source": [
        "train_labels[100]"
      ],
      "metadata": {
        "colab": {
          "base_uri": "https://localhost:8080/"
        },
        "id": "xHrWmw0BdY_W",
        "outputId": "a076aae7-03ac-4289-c6bf-5df184d8fa34"
      },
      "execution_count": 22,
      "outputs": [
        {
          "output_type": "execute_result",
          "data": {
            "text/plain": [
              "20"
            ]
          },
          "metadata": {},
          "execution_count": 22
        }
      ]
    },
    {
      "cell_type": "code",
      "source": [
        "def seri_vektorizasyonu(seri, boyut=10000):\n",
        "  sonuclar = np.zeros((len(seri),boyut))\n",
        "  for i, degerler in enumerate(seri):\n",
        "    for j in degerler:\n",
        "      sonuclar[i,j] = 1.\n",
        "  return sonuclar"
      ],
      "metadata": {
        "id": "ABzdCc2vdbRQ"
      },
      "execution_count": 23,
      "outputs": []
    },
    {
      "cell_type": "code",
      "source": [
        "x_train = seri_vektorizasyonu(train_data)\n",
        "x_test = seri_vektorizasyonu(test_data)"
      ],
      "metadata": {
        "id": "J-dC0zO5d8l5"
      },
      "execution_count": 24,
      "outputs": []
    },
    {
      "cell_type": "code",
      "source": [
        "train_data[10]"
      ],
      "metadata": {
        "colab": {
          "base_uri": "https://localhost:8080/"
        },
        "id": "7QFTG3izeI3o",
        "outputId": "535cbf80-abfe-4d02-b857-2b92668b51cd"
      },
      "execution_count": 25,
      "outputs": [
        {
          "output_type": "execute_result",
          "data": {
            "text/plain": [
              "[1,\n",
              " 245,\n",
              " 273,\n",
              " 207,\n",
              " 156,\n",
              " 53,\n",
              " 74,\n",
              " 160,\n",
              " 26,\n",
              " 14,\n",
              " 46,\n",
              " 296,\n",
              " 26,\n",
              " 39,\n",
              " 74,\n",
              " 2979,\n",
              " 3554,\n",
              " 14,\n",
              " 46,\n",
              " 4689,\n",
              " 4329,\n",
              " 86,\n",
              " 61,\n",
              " 3499,\n",
              " 4795,\n",
              " 14,\n",
              " 61,\n",
              " 451,\n",
              " 4329,\n",
              " 17,\n",
              " 12]"
            ]
          },
          "metadata": {},
          "execution_count": 25
        }
      ]
    },
    {
      "cell_type": "code",
      "source": [
        "x_train[10]"
      ],
      "metadata": {
        "colab": {
          "base_uri": "https://localhost:8080/"
        },
        "id": "QUYeOvn8eSMR",
        "outputId": "2e8babd9-98ac-494d-8b4f-da030c2f3583"
      },
      "execution_count": 26,
      "outputs": [
        {
          "output_type": "execute_result",
          "data": {
            "text/plain": [
              "array([0., 1., 0., ..., 0., 0., 0.])"
            ]
          },
          "metadata": {},
          "execution_count": 26
        }
      ]
    },
    {
      "cell_type": "code",
      "source": [
        "# Etiket değerleri\n",
        "np.unique(train_labels)"
      ],
      "metadata": {
        "colab": {
          "base_uri": "https://localhost:8080/"
        },
        "id": "jlAXfhDzepIh",
        "outputId": "8f456b34-1e3c-4c2b-a9d7-c22b8f6bfc80"
      },
      "execution_count": 28,
      "outputs": [
        {
          "output_type": "execute_result",
          "data": {
            "text/plain": [
              "array([ 0,  1,  2,  3,  4,  5,  6,  7,  8,  9, 10, 11, 12, 13, 14, 15, 16,\n",
              "       17, 18, 19, 20, 21, 22, 23, 24, 25, 26, 27, 28, 29, 30, 31, 32, 33,\n",
              "       34, 35, 36, 37, 38, 39, 40, 41, 42, 43, 44, 45])"
            ]
          },
          "metadata": {},
          "execution_count": 28
        }
      ]
    },
    {
      "cell_type": "code",
      "source": [
        "# one-hot-encoding (get_dummies'e benzer bir şekilde, kategorik değerleri 0-1 listeye dönüştürmeliyiz)"
      ],
      "metadata": {
        "id": "U4StPqZyevpQ"
      },
      "execution_count": 29,
      "outputs": []
    },
    {
      "cell_type": "code",
      "source": [
        "def one_hot_donustur(labels, boyut=46):\n",
        "  sonuclar = np.zeros((len(labels), boyut))\n",
        "  for i, label in enumerate(labels):\n",
        "    sonuclar[i, label] = 1. \n",
        "  return sonuclar"
      ],
      "metadata": {
        "id": "xWrzR80UfI44"
      },
      "execution_count": 30,
      "outputs": []
    },
    {
      "cell_type": "code",
      "source": [
        "y_train = one_hot_donustur(train_labels)\n",
        "y_test = one_hot_donustur(test_labels)"
      ],
      "metadata": {
        "id": "BLyHqaEgfomg"
      },
      "execution_count": 31,
      "outputs": []
    },
    {
      "cell_type": "code",
      "source": [
        "train_labels[10]"
      ],
      "metadata": {
        "colab": {
          "base_uri": "https://localhost:8080/"
        },
        "id": "8cL1yHAbf2L4",
        "outputId": "1b3c8830-a90a-494e-f130-72357ff3e5ae"
      },
      "execution_count": 32,
      "outputs": [
        {
          "output_type": "execute_result",
          "data": {
            "text/plain": [
              "3"
            ]
          },
          "metadata": {},
          "execution_count": 32
        }
      ]
    },
    {
      "cell_type": "code",
      "source": [
        "y_train[3]"
      ],
      "metadata": {
        "colab": {
          "base_uri": "https://localhost:8080/"
        },
        "id": "vXER1Ea-f4Wf",
        "outputId": "525dfa14-435c-4327-a33e-401bbad70b21"
      },
      "execution_count": 33,
      "outputs": [
        {
          "output_type": "execute_result",
          "data": {
            "text/plain": [
              "array([0., 0., 0., 0., 1., 0., 0., 0., 0., 0., 0., 0., 0., 0., 0., 0., 0.,\n",
              "       0., 0., 0., 0., 0., 0., 0., 0., 0., 0., 0., 0., 0., 0., 0., 0., 0.,\n",
              "       0., 0., 0., 0., 0., 0., 0., 0., 0., 0., 0., 0.])"
            ]
          },
          "metadata": {},
          "execution_count": 33
        }
      ]
    },
    {
      "cell_type": "code",
      "source": [
        "# alternatif one-hot-encoder (Keras hazır fonksiyon kullanımı)\n",
        "from tensorflow.keras.utils import to_categorical\n",
        "y_train = to_categorical(train_labels)\n",
        "y_test = to_categorical(test_labels)"
      ],
      "metadata": {
        "id": "QxrbvMmAgueX"
      },
      "execution_count": 34,
      "outputs": []
    },
    {
      "cell_type": "code",
      "source": [
        "y_train[3]"
      ],
      "metadata": {
        "colab": {
          "base_uri": "https://localhost:8080/"
        },
        "id": "R2HAmHFIg-eu",
        "outputId": "e4ea80bd-f217-4c46-abcf-29127fcff5d1"
      },
      "execution_count": 35,
      "outputs": [
        {
          "output_type": "execute_result",
          "data": {
            "text/plain": [
              "array([0., 0., 0., 0., 1., 0., 0., 0., 0., 0., 0., 0., 0., 0., 0., 0., 0.,\n",
              "       0., 0., 0., 0., 0., 0., 0., 0., 0., 0., 0., 0., 0., 0., 0., 0., 0.,\n",
              "       0., 0., 0., 0., 0., 0., 0., 0., 0., 0., 0., 0.], dtype=float32)"
            ]
          },
          "metadata": {},
          "execution_count": 35
        }
      ]
    },
    {
      "cell_type": "code",
      "source": [
        "# Modelin oluşturulması\n",
        "# import keras ve layers\n",
        "from tensorflow import keras\n",
        "from tensorflow.keras import layers"
      ],
      "metadata": {
        "id": "d5Bh7PArf8aA"
      },
      "execution_count": 36,
      "outputs": []
    },
    {
      "cell_type": "code",
      "source": [
        "# model tanımı\n",
        "model = keras.Sequential([  # 3 tane saklı layer (hidden layer, 32 nodlu), 1 tane output layer 46 nodlu\n",
        "    layers.Dense(32, activation=\"relu\"),\n",
        "    layers.Dense(32, activation=\"relu\"),\n",
        "    layers.Dense(32, activation=\"relu\"),\n",
        "    layers.Dense(46, activation=\"softmax\")                         \n",
        "])"
      ],
      "metadata": {
        "id": "5KQQS-JMkD5b"
      },
      "execution_count": 37,
      "outputs": []
    },
    {
      "cell_type": "code",
      "source": [
        "# model compile\n",
        "model.compile(optimizer=\"rmsprop\", loss=\"categorical_crossentropy\", metrics=[\"accuracy\"])"
      ],
      "metadata": {
        "id": "0tP0UC5_lVAH"
      },
      "execution_count": 38,
      "outputs": []
    },
    {
      "cell_type": "code",
      "source": [
        "# Validasyon setinin ayrılması \n",
        "x_val = x_train[:1000]\n",
        "x_train_kalan = x_train[1000:]\n",
        "y_val = y_train[:1000]\n",
        "y_train_kalan = y_train[1000:] "
      ],
      "metadata": {
        "id": "MBFYOumRl5jC"
      },
      "execution_count": 40,
      "outputs": []
    },
    {
      "cell_type": "code",
      "source": [
        "# Data fit\n",
        "history = model.fit(x_train_kalan,\n",
        "                    y_train_kalan,\n",
        "                    epochs=20,\n",
        "                    batch_size=512,\n",
        "                    validation_data=(x_val,y_val))"
      ],
      "metadata": {
        "colab": {
          "base_uri": "https://localhost:8080/"
        },
        "id": "sb3Cw-Fomm3d",
        "outputId": "94dedb92-090f-4275-8744-08b52695d12c"
      },
      "execution_count": 41,
      "outputs": [
        {
          "output_type": "stream",
          "name": "stdout",
          "text": [
            "Epoch 1/20\n",
            "16/16 [==============================] - 2s 47ms/step - loss: 2.9259 - accuracy: 0.4063 - val_loss: 2.1151 - val_accuracy: 0.5670\n",
            "Epoch 2/20\n",
            "16/16 [==============================] - 1s 31ms/step - loss: 1.7835 - accuracy: 0.6234 - val_loss: 1.5970 - val_accuracy: 0.6410\n",
            "Epoch 3/20\n",
            "16/16 [==============================] - 1s 32ms/step - loss: 1.3884 - accuracy: 0.6988 - val_loss: 1.3818 - val_accuracy: 0.6850\n",
            "Epoch 4/20\n",
            "16/16 [==============================] - 1s 32ms/step - loss: 1.1707 - accuracy: 0.7363 - val_loss: 1.2753 - val_accuracy: 0.7130\n",
            "Epoch 5/20\n",
            "16/16 [==============================] - 1s 31ms/step - loss: 1.0150 - accuracy: 0.7692 - val_loss: 1.1858 - val_accuracy: 0.7280\n",
            "Epoch 6/20\n",
            "16/16 [==============================] - 0s 30ms/step - loss: 0.8854 - accuracy: 0.7979 - val_loss: 1.1362 - val_accuracy: 0.7410\n",
            "Epoch 7/20\n",
            "16/16 [==============================] - 0s 30ms/step - loss: 0.7731 - accuracy: 0.8250 - val_loss: 1.1159 - val_accuracy: 0.7490\n",
            "Epoch 8/20\n",
            "16/16 [==============================] - 1s 31ms/step - loss: 0.6714 - accuracy: 0.8494 - val_loss: 1.0800 - val_accuracy: 0.7640\n",
            "Epoch 9/20\n",
            "16/16 [==============================] - 0s 31ms/step - loss: 0.5854 - accuracy: 0.8673 - val_loss: 1.0489 - val_accuracy: 0.7710\n",
            "Epoch 10/20\n",
            "16/16 [==============================] - 1s 31ms/step - loss: 0.5064 - accuracy: 0.8887 - val_loss: 1.0399 - val_accuracy: 0.7880\n",
            "Epoch 11/20\n",
            "16/16 [==============================] - 0s 31ms/step - loss: 0.4382 - accuracy: 0.9032 - val_loss: 1.0489 - val_accuracy: 0.7890\n",
            "Epoch 12/20\n",
            "16/16 [==============================] - 0s 31ms/step - loss: 0.3862 - accuracy: 0.9129 - val_loss: 1.0789 - val_accuracy: 0.7820\n",
            "Epoch 13/20\n",
            "16/16 [==============================] - 0s 30ms/step - loss: 0.3383 - accuracy: 0.9209 - val_loss: 1.0805 - val_accuracy: 0.7820\n",
            "Epoch 14/20\n",
            "16/16 [==============================] - 1s 31ms/step - loss: 0.3012 - accuracy: 0.9298 - val_loss: 1.0954 - val_accuracy: 0.7890\n",
            "Epoch 15/20\n",
            "16/16 [==============================] - 0s 30ms/step - loss: 0.2654 - accuracy: 0.9362 - val_loss: 1.1069 - val_accuracy: 0.7840\n",
            "Epoch 16/20\n",
            "16/16 [==============================] - 0s 31ms/step - loss: 0.2414 - accuracy: 0.9421 - val_loss: 1.2102 - val_accuracy: 0.7810\n",
            "Epoch 17/20\n",
            "16/16 [==============================] - 0s 30ms/step - loss: 0.2135 - accuracy: 0.9446 - val_loss: 1.2124 - val_accuracy: 0.7820\n",
            "Epoch 18/20\n",
            "16/16 [==============================] - 0s 31ms/step - loss: 0.1956 - accuracy: 0.9496 - val_loss: 1.1943 - val_accuracy: 0.7960\n",
            "Epoch 19/20\n",
            "16/16 [==============================] - 1s 32ms/step - loss: 0.1854 - accuracy: 0.9490 - val_loss: 1.2038 - val_accuracy: 0.7980\n",
            "Epoch 20/20\n",
            "16/16 [==============================] - 1s 32ms/step - loss: 0.1711 - accuracy: 0.9534 - val_loss: 1.2113 - val_accuracy: 0.7910\n"
          ]
        }
      ]
    },
    {
      "cell_type": "code",
      "source": [
        "# epochs = 11\n",
        "acc = history.history[\"accuracy\"]\n",
        "val_acc = history.history[\"val_accuracy\"]\n",
        "epochs = range(1, len(acc) + 1)\n",
        "\n",
        "import matplotlib.pyplot as plt \n",
        "plt.plot(epochs,acc, \"bo\", label=\"Eğitim Doğruluk Oranı (accuracy)\")\n",
        "plt.plot(epochs,val_acc, \"b\", label=\"Validasyon Doğruluk Oranı (accuracy)\")\n",
        "plt.title(\"Eğitim ve Validasyon Doğruluk oranları\")\n",
        "plt.xlabel(\"Epochs\")\n",
        "plt.ylabel(\"Doğruluk oranı (accuracy)\")\n",
        "plt.legend()\n",
        "plt.show()"
      ],
      "metadata": {
        "colab": {
          "base_uri": "https://localhost:8080/",
          "height": 295
        },
        "id": "Qaplqha0nDid",
        "outputId": "e8869e0d-b22e-45fd-80cd-50aa7a44b65d"
      },
      "execution_count": 44,
      "outputs": [
        {
          "output_type": "display_data",
          "data": {
            "text/plain": [
              "<Figure size 432x288 with 1 Axes>"
            ],
            "image/png": "[encoded data removed]"
          },
          "metadata": {
            "needs_background": "light"
          }
        }
      ]
    },
    {
      "cell_type": "code",
      "source": [
        "# Epochs=11 için modeli yeni baştan oluştur.\n",
        "model = keras.Sequential([  # 3 tane saklı layer (hidden layer, 32 nodlu), 1 tane output layer 46 nodlu\n",
        "    layers.Dense(32, activation=\"relu\"),\n",
        "    layers.Dense(32, activation=\"relu\"),\n",
        "    layers.Dense(32, activation=\"relu\"),\n",
        "    layers.Dense(46, activation=\"softmax\")                         \n",
        "])\n",
        "\n",
        "model.compile(optimizer=\"rmsprop\", loss=\"categorical_crossentropy\", metrics=[\"accuracy\"])\n",
        "\n",
        "model.fit(x_train,\n",
        "          y_train,\n",
        "          epochs=11, # grafikten hesaplanan değer.\n",
        "          batch_size=512)"
      ],
      "metadata": {
        "colab": {
          "base_uri": "https://localhost:8080/"
        },
        "id": "a2vgbvOvoHSU",
        "outputId": "9a4e6cec-a0d8-4553-cf56-0838d16be2a6"
      },
      "execution_count": 46,
      "outputs": [
        {
          "output_type": "stream",
          "name": "stdout",
          "text": [
            "Epoch 1/11\n",
            "18/18 [==============================] - 1s 29ms/step - loss: 3.1097 - accuracy: 0.4683\n",
            "Epoch 2/11\n",
            "18/18 [==============================] - 1s 29ms/step - loss: 1.8406 - accuracy: 0.6301\n",
            "Epoch 3/11\n",
            "18/18 [==============================] - 1s 31ms/step - loss: 1.3984 - accuracy: 0.7003\n",
            "Epoch 4/11\n",
            "18/18 [==============================] - 1s 29ms/step - loss: 1.1534 - accuracy: 0.7387\n",
            "Epoch 5/11\n",
            "18/18 [==============================] - 1s 35ms/step - loss: 0.9840 - accuracy: 0.7719\n",
            "Epoch 6/11\n",
            "18/18 [==============================] - 1s 36ms/step - loss: 0.8530 - accuracy: 0.8071\n",
            "Epoch 7/11\n",
            "18/18 [==============================] - 1s 29ms/step - loss: 0.7379 - accuracy: 0.8331\n",
            "Epoch 8/11\n",
            "18/18 [==============================] - 1s 30ms/step - loss: 0.6424 - accuracy: 0.8544\n",
            "Epoch 9/11\n",
            "18/18 [==============================] - 1s 30ms/step - loss: 0.5541 - accuracy: 0.8749\n",
            "Epoch 10/11\n",
            "18/18 [==============================] - 1s 30ms/step - loss: 0.4838 - accuracy: 0.8904\n",
            "Epoch 11/11\n",
            "18/18 [==============================] - 1s 28ms/step - loss: 0.4181 - accuracy: 0.9051\n"
          ]
        },
        {
          "output_type": "execute_result",
          "data": {
            "text/plain": [
              "<keras.callbacks.History at 0x7f9e5bff4310>"
            ]
          },
          "metadata": {},
          "execution_count": 46
        }
      ]
    },
    {
      "cell_type": "code",
      "source": [
        "# Model performansının hesaplanması\n",
        "sonuclar = model.evaluate(x_test,y_test)\n",
        "print(f\"Model performansı: {sonuclar}\")\n",
        "# doğruluk oranı: % 76.3"
      ],
      "metadata": {
        "colab": {
          "base_uri": "https://localhost:8080/"
        },
        "id": "p-rM0_NToIHb",
        "outputId": "1a940ce6-216a-4e0c-f055-fef538f73d6f"
      },
      "execution_count": 47,
      "outputs": [
        {
          "output_type": "stream",
          "name": "stdout",
          "text": [
            "71/71 [==============================] - 0s 3ms/step - loss: 1.0792 - accuracy: 0.7631\n",
            "Model performansı: [1.0791521072387695, 0.7631344795227051]\n"
          ]
        }
      ]
    },
    {
      "cell_type": "code",
      "source": [
        "# Eğer kategori belirleme rasgele yapılsaydı?\n",
        "import copy \n",
        "test_labels_kopya = copy.copy(test_labels) \n",
        "np.random.shuffle(test_labels_kopya)\n",
        "rasgele_tahmin_dogruluk = np.array(test_labels) == np.array(test_labels_kopya)\n",
        "rasgele_tahmin_dogruluk.mean()"
      ],
      "metadata": {
        "colab": {
          "base_uri": "https://localhost:8080/"
        },
        "id": "IkRNYjCMqKYU",
        "outputId": "0bae4a59-d75a-4075-b354-2b702be1dece"
      },
      "execution_count": 51,
      "outputs": [
        {
          "output_type": "execute_result",
          "data": {
            "text/plain": [
              "0.18076580587711488"
            ]
          },
          "metadata": {},
          "execution_count": 51
        }
      ]
    },
    {
      "cell_type": "code",
      "source": [
        "plt.hist(test_labels)"
      ],
      "metadata": {
        "colab": {
          "base_uri": "https://localhost:8080/",
          "height": 335
        },
        "id": "hWJimV_xrYeV",
        "outputId": "214991f1-7bdb-4adc-c7be-f8a6da69e164"
      },
      "execution_count": 52,
      "outputs": [
        {
          "output_type": "execute_result",
          "data": {
            "text/plain": [
              "(array([1424.,   60.,  188.,  122.,  257.,   70.,   43.,   28.,   31.,\n",
              "          23.]),\n",
              " array([ 0. ,  4.5,  9. , 13.5, 18. , 22.5, 27. , 31.5, 36. , 40.5, 45. ]),\n",
              " <a list of 10 Patch objects>)"
            ]
          },
          "metadata": {},
          "execution_count": 52
        },
        {
          "output_type": "display_data",
          "data": {
            "text/plain": [
              "<Figure size 432x288 with 1 Axes>"
            ],
            "image/png": "[encoded data removed]"
          },
          "metadata": {
            "needs_background": "light"
          }
        }
      ]
    },
    {
      "cell_type": "code",
      "source": [
        "# FARKLI MODELLER"
      ],
      "metadata": {
        "id": "3VXmDkKbrvB7"
      },
      "execution_count": 53,
      "outputs": []
    },
    {
      "cell_type": "code",
      "source": [
        "# Model-2: \n",
        "# 2 hidden layer 64 node'lu"
      ],
      "metadata": {
        "id": "9mSZKF5VsWRr"
      },
      "execution_count": 54,
      "outputs": []
    },
    {
      "cell_type": "code",
      "source": [
        "model = keras.Sequential([\n",
        "    layers.Dense(64, activation=\"relu\"),\n",
        "    layers.Dense(64, activation=\"relu\"),\n",
        "    layers.Dense(46, activation=\"softmax\")    \n",
        "])\n",
        "\n",
        "model.compile(optimizer=\"rmsprop\", loss=\"categorical_crossentropy\", metrics=[\"accuracy\"])\n",
        "\n",
        "history = model.fit(x_train_kalan,\n",
        "                    y_train_kalan,\n",
        "                    epochs=20,\n",
        "                    batch_size=512,\n",
        "                    validation_data=(x_val,y_val))"
      ],
      "metadata": {
        "colab": {
          "base_uri": "https://localhost:8080/"
        },
        "id": "gM-H2vvbsgAT",
        "outputId": "df01e007-e636-4d89-b314-6f9b35273188"
      },
      "execution_count": 56,
      "outputs": [
        {
          "output_type": "stream",
          "name": "stdout",
          "text": [
            "Epoch 1/20\n",
            "16/16 [==============================] - 1s 52ms/step - loss: 2.5941 - accuracy: 0.5336 - val_loss: 1.7178 - val_accuracy: 0.6340\n",
            "Epoch 2/20\n",
            "16/16 [==============================] - 1s 42ms/step - loss: 1.4303 - accuracy: 0.7082 - val_loss: 1.3120 - val_accuracy: 0.7280\n",
            "Epoch 3/20\n",
            "16/16 [==============================] - 1s 42ms/step - loss: 1.0672 - accuracy: 0.7757 - val_loss: 1.1321 - val_accuracy: 0.7460\n",
            "Epoch 4/20\n",
            "16/16 [==============================] - 1s 43ms/step - loss: 0.8407 - accuracy: 0.8232 - val_loss: 1.0248 - val_accuracy: 0.7820\n",
            "Epoch 5/20\n",
            "16/16 [==============================] - 1s 41ms/step - loss: 0.6730 - accuracy: 0.8601 - val_loss: 0.9865 - val_accuracy: 0.7940\n",
            "Epoch 6/20\n",
            "16/16 [==============================] - 1s 42ms/step - loss: 0.5335 - accuracy: 0.8905 - val_loss: 0.9270 - val_accuracy: 0.8180\n",
            "Epoch 7/20\n",
            "16/16 [==============================] - 1s 42ms/step - loss: 0.4247 - accuracy: 0.9112 - val_loss: 0.8975 - val_accuracy: 0.8150\n",
            "Epoch 8/20\n",
            "16/16 [==============================] - 1s 41ms/step - loss: 0.3439 - accuracy: 0.9282 - val_loss: 0.9043 - val_accuracy: 0.8200\n",
            "Epoch 9/20\n",
            "16/16 [==============================] - 1s 43ms/step - loss: 0.2894 - accuracy: 0.9376 - val_loss: 0.8851 - val_accuracy: 0.8290\n",
            "Epoch 10/20\n",
            "16/16 [==============================] - 1s 42ms/step - loss: 0.2473 - accuracy: 0.9440 - val_loss: 0.9403 - val_accuracy: 0.8030\n",
            "Epoch 11/20\n",
            "16/16 [==============================] - 1s 41ms/step - loss: 0.2123 - accuracy: 0.9488 - val_loss: 0.9217 - val_accuracy: 0.8090\n",
            "Epoch 12/20\n",
            "16/16 [==============================] - 1s 42ms/step - loss: 0.1871 - accuracy: 0.9516 - val_loss: 0.9634 - val_accuracy: 0.8090\n",
            "Epoch 13/20\n",
            "16/16 [==============================] - 1s 42ms/step - loss: 0.1671 - accuracy: 0.9539 - val_loss: 0.9407 - val_accuracy: 0.8100\n",
            "Epoch 14/20\n",
            "16/16 [==============================] - 1s 42ms/step - loss: 0.1515 - accuracy: 0.9546 - val_loss: 0.9599 - val_accuracy: 0.8230\n",
            "Epoch 15/20\n",
            "16/16 [==============================] - 1s 43ms/step - loss: 0.1482 - accuracy: 0.9549 - val_loss: 0.9880 - val_accuracy: 0.8130\n",
            "Epoch 16/20\n",
            "16/16 [==============================] - 1s 42ms/step - loss: 0.1337 - accuracy: 0.9562 - val_loss: 1.0180 - val_accuracy: 0.8140\n",
            "Epoch 17/20\n",
            "16/16 [==============================] - 1s 41ms/step - loss: 0.1273 - accuracy: 0.9563 - val_loss: 1.0406 - val_accuracy: 0.8010\n",
            "Epoch 18/20\n",
            "16/16 [==============================] - 1s 42ms/step - loss: 0.1232 - accuracy: 0.9560 - val_loss: 1.0606 - val_accuracy: 0.8020\n",
            "Epoch 19/20\n",
            "16/16 [==============================] - 1s 42ms/step - loss: 0.1160 - accuracy: 0.9582 - val_loss: 1.0485 - val_accuracy: 0.8110\n",
            "Epoch 20/20\n",
            "16/16 [==============================] - 1s 41ms/step - loss: 0.1161 - accuracy: 0.9579 - val_loss: 1.1508 - val_accuracy: 0.7980\n"
          ]
        }
      ]
    },
    {
      "cell_type": "code",
      "source": [
        "# epochs = 9\n",
        "acc = history.history[\"accuracy\"]\n",
        "val_acc = history.history[\"val_accuracy\"]\n",
        "epochs = range(1, len(acc) + 1)\n",
        "\n",
        "plt.plot(epochs,acc, \"bo\", label=\"Eğitim Doğruluk Oranı (accuracy)\")\n",
        "plt.plot(epochs,val_acc, \"b\", label=\"Validasyon Doğruluk Oranı (accuracy)\")\n",
        "plt.title(\"Eğitim ve Validasyon Doğruluk oranları - 2 tane hidden layer 64'lük node ile\")\n",
        "plt.xlabel(\"Epochs\")\n",
        "plt.ylabel(\"Doğruluk oranı (accuracy)\")\n",
        "plt.legend()\n",
        "plt.show()"
      ],
      "metadata": {
        "colab": {
          "base_uri": "https://localhost:8080/",
          "height": 295
        },
        "id": "dIV-GC_ytLJe",
        "outputId": "03f77b93-4e1e-488a-b98b-ac4c70e51767"
      },
      "execution_count": 57,
      "outputs": [
        {
          "output_type": "display_data",
          "data": {
            "text/plain": [
              "<Figure size 432x288 with 1 Axes>"
            ],
            "image/png": "[encoded data removed]"
          },
          "metadata": {
            "needs_background": "light"
          }
        }
      ]
    },
    {
      "cell_type": "code",
      "source": [
        "model = keras.Sequential([\n",
        "    layers.Dense(64, activation=\"relu\"),\n",
        "    layers.Dense(64, activation=\"relu\"),\n",
        "    layers.Dense(46, activation=\"softmax\")    \n",
        "])\n",
        "\n",
        "model.compile(optimizer=\"rmsprop\", loss=\"categorical_crossentropy\", metrics=[\"accuracy\"])\n",
        "\n",
        "history = model.fit(x_train,\n",
        "                    y_train,\n",
        "                    epochs=9,\n",
        "                    batch_size=512)\n",
        "\n",
        "sonuclar = model.evaluate(x_test,y_test)\n",
        "print(f\"2 hidden layer, 64 + 64 nodes, rmsprop => model performansı: {sonuclar}\")"
      ],
      "metadata": {
        "colab": {
          "base_uri": "https://localhost:8080/"
        },
        "id": "E7kBAyLgtwHC",
        "outputId": "97a041b1-aba4-4613-d425-f291c846d3b7"
      },
      "execution_count": 58,
      "outputs": [
        {
          "output_type": "stream",
          "name": "stdout",
          "text": [
            "Epoch 1/9\n",
            "18/18 [==============================] - 1s 40ms/step - loss: 2.5349 - accuracy: 0.5405\n",
            "Epoch 2/9\n",
            "18/18 [==============================] - 1s 72ms/step - loss: 1.3328 - accuracy: 0.7206\n",
            "Epoch 3/9\n",
            "18/18 [==============================] - 1s 51ms/step - loss: 0.9872 - accuracy: 0.7904\n",
            "Epoch 4/9\n",
            "18/18 [==============================] - 1s 39ms/step - loss: 0.7723 - accuracy: 0.8375\n",
            "Epoch 5/9\n",
            "18/18 [==============================] - 1s 39ms/step - loss: 0.6092 - accuracy: 0.8741\n",
            "Epoch 6/9\n",
            "18/18 [==============================] - 1s 39ms/step - loss: 0.4872 - accuracy: 0.8986\n",
            "Epoch 7/9\n",
            "18/18 [==============================] - 1s 37ms/step - loss: 0.3888 - accuracy: 0.9185\n",
            "Epoch 8/9\n",
            "18/18 [==============================] - 1s 38ms/step - loss: 0.3221 - accuracy: 0.9291\n",
            "Epoch 9/9\n",
            "18/18 [==============================] - 1s 38ms/step - loss: 0.2678 - accuracy: 0.9387\n",
            "71/71 [==============================] - 0s 2ms/step - loss: 0.9431 - accuracy: 0.7965\n",
            "2 hidden layer, 64 + 64 nodes, rmsprop => model performansı: [0.9431003332138062, 0.7965271472930908]\n"
          ]
        }
      ]
    },
    {
      "cell_type": "code",
      "source": [
        "# MODEL-3 (adam optimizer)\n",
        "model = keras.Sequential([\n",
        "    layers.Dense(64, activation=\"relu\"),\n",
        "    layers.Dense(64, activation=\"relu\"),\n",
        "    layers.Dense(46, activation=\"softmax\")    \n",
        "])\n",
        "\n",
        "model.compile(optimizer=\"adam\", loss=\"categorical_crossentropy\", metrics=[\"accuracy\"])\n",
        "\n",
        "history = model.fit(x_train_kalan,\n",
        "                    y_train_kalan,\n",
        "                    epochs=20,\n",
        "                    batch_size=512,\n",
        "                    validation_data=(x_val,y_val))\n"
      ],
      "metadata": {
        "colab": {
          "base_uri": "https://localhost:8080/"
        },
        "id": "IvG9IyqCxoKa",
        "outputId": "50450aed-7c17-4194-db79-6e4977fc0b66"
      },
      "execution_count": 59,
      "outputs": [
        {
          "output_type": "stream",
          "name": "stdout",
          "text": [
            "Epoch 1/20\n",
            "16/16 [==============================] - 1s 49ms/step - loss: 3.3001 - accuracy: 0.4503 - val_loss: 2.5226 - val_accuracy: 0.5580\n",
            "Epoch 2/20\n",
            "16/16 [==============================] - 1s 39ms/step - loss: 1.9703 - accuracy: 0.6322 - val_loss: 1.6097 - val_accuracy: 0.6560\n",
            "Epoch 3/20\n",
            "16/16 [==============================] - 1s 43ms/step - loss: 1.3411 - accuracy: 0.7162 - val_loss: 1.2798 - val_accuracy: 0.7150\n",
            "Epoch 4/20\n",
            "16/16 [==============================] - 1s 41ms/step - loss: 1.0294 - accuracy: 0.7734 - val_loss: 1.1194 - val_accuracy: 0.7630\n",
            "Epoch 5/20\n",
            "16/16 [==============================] - 1s 39ms/step - loss: 0.8066 - accuracy: 0.8275 - val_loss: 1.0172 - val_accuracy: 0.7940\n",
            "Epoch 6/20\n",
            "16/16 [==============================] - 1s 39ms/step - loss: 0.6292 - accuracy: 0.8698 - val_loss: 0.9528 - val_accuracy: 0.8010\n",
            "Epoch 7/20\n",
            "16/16 [==============================] - 1s 38ms/step - loss: 0.4867 - accuracy: 0.8996 - val_loss: 0.9086 - val_accuracy: 0.8100\n",
            "Epoch 8/20\n",
            "16/16 [==============================] - 1s 39ms/step - loss: 0.3768 - accuracy: 0.9206 - val_loss: 0.8795 - val_accuracy: 0.8210\n",
            "Epoch 9/20\n",
            "16/16 [==============================] - 1s 39ms/step - loss: 0.2970 - accuracy: 0.9370 - val_loss: 0.8823 - val_accuracy: 0.8140\n",
            "Epoch 10/20\n",
            "16/16 [==============================] - 1s 39ms/step - loss: 0.2402 - accuracy: 0.9468 - val_loss: 0.8881 - val_accuracy: 0.8210\n",
            "Epoch 11/20\n",
            "16/16 [==============================] - 1s 39ms/step - loss: 0.2022 - accuracy: 0.9508 - val_loss: 0.8865 - val_accuracy: 0.8220\n",
            "Epoch 12/20\n",
            "16/16 [==============================] - 1s 38ms/step - loss: 0.1725 - accuracy: 0.9543 - val_loss: 0.9250 - val_accuracy: 0.8110\n",
            "Epoch 13/20\n",
            "16/16 [==============================] - 1s 40ms/step - loss: 0.1506 - accuracy: 0.9563 - val_loss: 0.9135 - val_accuracy: 0.8220\n",
            "Epoch 14/20\n",
            "16/16 [==============================] - 1s 38ms/step - loss: 0.1362 - accuracy: 0.9584 - val_loss: 0.9272 - val_accuracy: 0.8130\n",
            "Epoch 15/20\n",
            "16/16 [==============================] - 1s 38ms/step - loss: 0.1247 - accuracy: 0.9599 - val_loss: 0.9745 - val_accuracy: 0.8080\n",
            "Epoch 16/20\n",
            "16/16 [==============================] - 1s 39ms/step - loss: 0.1153 - accuracy: 0.9599 - val_loss: 0.9657 - val_accuracy: 0.8140\n",
            "Epoch 17/20\n",
            "16/16 [==============================] - 1s 39ms/step - loss: 0.1123 - accuracy: 0.9612 - val_loss: 0.9848 - val_accuracy: 0.8040\n",
            "Epoch 18/20\n",
            "16/16 [==============================] - 1s 39ms/step - loss: 0.1067 - accuracy: 0.9609 - val_loss: 0.9893 - val_accuracy: 0.8130\n",
            "Epoch 19/20\n",
            "16/16 [==============================] - 1s 40ms/step - loss: 0.1034 - accuracy: 0.9615 - val_loss: 0.9834 - val_accuracy: 0.8150\n",
            "Epoch 20/20\n",
            "16/16 [==============================] - 1s 39ms/step - loss: 0.0996 - accuracy: 0.9610 - val_loss: 1.0107 - val_accuracy: 0.8080\n"
          ]
        }
      ]
    },
    {
      "cell_type": "code",
      "source": [
        "acc = history.history[\"accuracy\"]\n",
        "val_acc = history.history[\"val_accuracy\"]\n",
        "epochs = range(1, len(acc) + 1)\n",
        "\n",
        "plt.plot(epochs,acc, \"bo\", label=\"Eğitim Doğruluk Oranı (accuracy)\")\n",
        "plt.plot(epochs,val_acc, \"b\", label=\"Validasyon Doğruluk Oranı (accuracy)\")\n",
        "plt.title(\"Eğitim ve Validasyon Doğruluk oranları - 2 tane hidden layer 64'lük node ve adam optimizer ile\")\n",
        "plt.xlabel(\"Epochs\")\n",
        "plt.ylabel(\"Doğruluk oranı (accuracy)\")\n",
        "plt.legend()\n",
        "plt.show()"
      ],
      "metadata": {
        "colab": {
          "base_uri": "https://localhost:8080/",
          "height": 295
        },
        "id": "TAmlHjP1x6wk",
        "outputId": "162f9c91-7fab-4ef1-bb03-1d133002bbb3"
      },
      "execution_count": 60,
      "outputs": [
        {
          "output_type": "display_data",
          "data": {
            "text/plain": [
              "<Figure size 432x288 with 1 Axes>"
            ],
            "image/png": "[encoded data removed]"
          },
          "metadata": {
            "needs_background": "light"
          }
        }
      ]
    },
    {
      "cell_type": "code",
      "source": [
        "# epochs = 8\n",
        "model = keras.Sequential([\n",
        "    layers.Dense(64, activation=\"relu\"),\n",
        "    layers.Dense(64, activation=\"relu\"),\n",
        "    layers.Dense(46, activation=\"softmax\")    \n",
        "])\n",
        "\n",
        "model.compile(optimizer=\"adam\", loss=\"categorical_crossentropy\", metrics=[\"accuracy\"])\n",
        "\n",
        "history = model.fit(x_train,\n",
        "                    y_train,\n",
        "                    epochs=8,\n",
        "                    batch_size=512)\n",
        "\n",
        "sonuclar = model.evaluate(x_test,y_test)\n",
        "print(f\"2 hidden layer, 64 + 64 nodes, adam optimizer => model performansı: {sonuclar}\")"
      ],
      "metadata": {
        "colab": {
          "base_uri": "https://localhost:8080/"
        },
        "id": "fpk3zefPyGDs",
        "outputId": "e6e10916-b3c3-453b-d48f-e9de3082f764"
      },
      "execution_count": 61,
      "outputs": [
        {
          "output_type": "stream",
          "name": "stdout",
          "text": [
            "Epoch 1/8\n",
            "18/18 [==============================] - 2s 49ms/step - loss: 3.3502 - accuracy: 0.3804\n",
            "Epoch 2/8\n",
            "18/18 [==============================] - 1s 45ms/step - loss: 2.0901 - accuracy: 0.6303\n",
            "Epoch 3/8\n",
            "18/18 [==============================] - 1s 37ms/step - loss: 1.3208 - accuracy: 0.7141\n",
            "Epoch 4/8\n",
            "18/18 [==============================] - 1s 37ms/step - loss: 0.9787 - accuracy: 0.7862\n",
            "Epoch 5/8\n",
            "18/18 [==============================] - 1s 37ms/step - loss: 0.7589 - accuracy: 0.8418\n",
            "Epoch 6/8\n",
            "18/18 [==============================] - 1s 36ms/step - loss: 0.5887 - accuracy: 0.8811\n",
            "Epoch 7/8\n",
            "18/18 [==============================] - 1s 37ms/step - loss: 0.4595 - accuracy: 0.9045\n",
            "Epoch 8/8\n",
            "18/18 [==============================] - 1s 37ms/step - loss: 0.3618 - accuracy: 0.9217\n",
            "71/71 [==============================] - 0s 2ms/step - loss: 0.9254 - accuracy: 0.7934\n",
            "2 hidden layer, 64 + 64 nodes, adam optimizer => model performansı: [0.9253860116004944, 0.7934104800224304]\n"
          ]
        }
      ]
    },
    {
      "cell_type": "code",
      "source": [
        "# BOSTON EV FİYATLARININ TAHMİN EDİLMESİ\n",
        "from tensorflow.keras.datasets import boston_housing"
      ],
      "metadata": {
        "id": "hBAP6aTeyXSt"
      },
      "execution_count": 62,
      "outputs": []
    },
    {
      "cell_type": "code",
      "source": [
        "(train_data, train_targets), (test_data, test_targets) = (boston_housing.load_data())"
      ],
      "metadata": {
        "colab": {
          "base_uri": "https://localhost:8080/"
        },
        "id": "MlqsayNVyrTA",
        "outputId": "ab6865bf-9246-4058-b2f4-522e3681f5e9"
      },
      "execution_count": 63,
      "outputs": [
        {
          "output_type": "stream",
          "name": "stdout",
          "text": [
            "Downloading data from https://storage.googleapis.com/tensorflow/tf-keras-datasets/boston_housing.npz\n",
            "57344/57026 [==============================] - 0s 0us/step\n",
            "65536/57026 [==================================] - 0s 0us/step\n"
          ]
        }
      ]
    },
    {
      "cell_type": "code",
      "source": [
        "train_data.shape"
      ],
      "metadata": {
        "colab": {
          "base_uri": "https://localhost:8080/"
        },
        "id": "zFOckh9gy1J2",
        "outputId": "34715441-c133-4f3c-e81b-d22609c0c9d7"
      },
      "execution_count": 64,
      "outputs": [
        {
          "output_type": "execute_result",
          "data": {
            "text/plain": [
              "(404, 13)"
            ]
          },
          "metadata": {},
          "execution_count": 64
        }
      ]
    },
    {
      "cell_type": "code",
      "source": [
        "test_data.shape"
      ],
      "metadata": {
        "colab": {
          "base_uri": "https://localhost:8080/"
        },
        "id": "t_6rxrSBy4m1",
        "outputId": "ae754f31-3fb1-496d-d5de-440635c48e23"
      },
      "execution_count": 65,
      "outputs": [
        {
          "output_type": "execute_result",
          "data": {
            "text/plain": [
              "(102, 13)"
            ]
          },
          "metadata": {},
          "execution_count": 65
        }
      ]
    },
    {
      "cell_type": "code",
      "source": [
        "train_targets"
      ],
      "metadata": {
        "colab": {
          "base_uri": "https://localhost:8080/"
        },
        "id": "QQ3bTOmEy7Q0",
        "outputId": "b9478444-d2ee-48b3-f8b2-cfdbc6e3839d"
      },
      "execution_count": 66,
      "outputs": [
        {
          "output_type": "execute_result",
          "data": {
            "text/plain": [
              "array([15.2, 42.3, 50. , 21.1, 17.7, 18.5, 11.3, 15.6, 15.6, 14.4, 12.1,\n",
              "       17.9, 23.1, 19.9, 15.7,  8.8, 50. , 22.5, 24.1, 27.5, 10.9, 30.8,\n",
              "       32.9, 24. , 18.5, 13.3, 22.9, 34.7, 16.6, 17.5, 22.3, 16.1, 14.9,\n",
              "       23.1, 34.9, 25. , 13.9, 13.1, 20.4, 20. , 15.2, 24.7, 22.2, 16.7,\n",
              "       12.7, 15.6, 18.4, 21. , 30.1, 15.1, 18.7,  9.6, 31.5, 24.8, 19.1,\n",
              "       22. , 14.5, 11. , 32. , 29.4, 20.3, 24.4, 14.6, 19.5, 14.1, 14.3,\n",
              "       15.6, 10.5,  6.3, 19.3, 19.3, 13.4, 36.4, 17.8, 13.5, 16.5,  8.3,\n",
              "       14.3, 16. , 13.4, 28.6, 43.5, 20.2, 22. , 23. , 20.7, 12.5, 48.5,\n",
              "       14.6, 13.4, 23.7, 50. , 21.7, 39.8, 38.7, 22.2, 34.9, 22.5, 31.1,\n",
              "       28.7, 46. , 41.7, 21. , 26.6, 15. , 24.4, 13.3, 21.2, 11.7, 21.7,\n",
              "       19.4, 50. , 22.8, 19.7, 24.7, 36.2, 14.2, 18.9, 18.3, 20.6, 24.6,\n",
              "       18.2,  8.7, 44. , 10.4, 13.2, 21.2, 37. , 30.7, 22.9, 20. , 19.3,\n",
              "       31.7, 32. , 23.1, 18.8, 10.9, 50. , 19.6,  5. , 14.4, 19.8, 13.8,\n",
              "       19.6, 23.9, 24.5, 25. , 19.9, 17.2, 24.6, 13.5, 26.6, 21.4, 11.9,\n",
              "       22.6, 19.6,  8.5, 23.7, 23.1, 22.4, 20.5, 23.6, 18.4, 35.2, 23.1,\n",
              "       27.9, 20.6, 23.7, 28. , 13.6, 27.1, 23.6, 20.6, 18.2, 21.7, 17.1,\n",
              "        8.4, 25.3, 13.8, 22.2, 18.4, 20.7, 31.6, 30.5, 20.3,  8.8, 19.2,\n",
              "       19.4, 23.1, 23. , 14.8, 48.8, 22.6, 33.4, 21.1, 13.6, 32.2, 13.1,\n",
              "       23.4, 18.9, 23.9, 11.8, 23.3, 22.8, 19.6, 16.7, 13.4, 22.2, 20.4,\n",
              "       21.8, 26.4, 14.9, 24.1, 23.8, 12.3, 29.1, 21. , 19.5, 23.3, 23.8,\n",
              "       17.8, 11.5, 21.7, 19.9, 25. , 33.4, 28.5, 21.4, 24.3, 27.5, 33.1,\n",
              "       16.2, 23.3, 48.3, 22.9, 22.8, 13.1, 12.7, 22.6, 15. , 15.3, 10.5,\n",
              "       24. , 18.5, 21.7, 19.5, 33.2, 23.2,  5. , 19.1, 12.7, 22.3, 10.2,\n",
              "       13.9, 16.3, 17. , 20.1, 29.9, 17.2, 37.3, 45.4, 17.8, 23.2, 29. ,\n",
              "       22. , 18. , 17.4, 34.6, 20.1, 25. , 15.6, 24.8, 28.2, 21.2, 21.4,\n",
              "       23.8, 31. , 26.2, 17.4, 37.9, 17.5, 20. ,  8.3, 23.9,  8.4, 13.8,\n",
              "        7.2, 11.7, 17.1, 21.6, 50. , 16.1, 20.4, 20.6, 21.4, 20.6, 36.5,\n",
              "        8.5, 24.8, 10.8, 21.9, 17.3, 18.9, 36.2, 14.9, 18.2, 33.3, 21.8,\n",
              "       19.7, 31.6, 24.8, 19.4, 22.8,  7.5, 44.8, 16.8, 18.7, 50. , 50. ,\n",
              "       19.5, 20.1, 50. , 17.2, 20.8, 19.3, 41.3, 20.4, 20.5, 13.8, 16.5,\n",
              "       23.9, 20.6, 31.5, 23.3, 16.8, 14. , 33.8, 36.1, 12.8, 18.3, 18.7,\n",
              "       19.1, 29. , 30.1, 50. , 50. , 22. , 11.9, 37.6, 50. , 22.7, 20.8,\n",
              "       23.5, 27.9, 50. , 19.3, 23.9, 22.6, 15.2, 21.7, 19.2, 43.8, 20.3,\n",
              "       33.2, 19.9, 22.5, 32.7, 22. , 17.1, 19. , 15. , 16.1, 25.1, 23.7,\n",
              "       28.7, 37.2, 22.6, 16.4, 25. , 29.8, 22.1, 17.4, 18.1, 30.3, 17.5,\n",
              "       24.7, 12.6, 26.5, 28.7, 13.3, 10.4, 24.4, 23. , 20. , 17.8,  7. ,\n",
              "       11.8, 24.4, 13.8, 19.4, 25.2, 19.4, 19.4, 29.1])"
            ]
          },
          "metadata": {},
          "execution_count": 66
        }
      ]
    },
    {
      "cell_type": "code",
      "source": [
        "plt.hist(train_targets)"
      ],
      "metadata": {
        "colab": {
          "base_uri": "https://localhost:8080/",
          "height": 317
        },
        "id": "F0iKZl-Qy933",
        "outputId": "6159b852-ab95-4ebd-cbad-6c71789c3579"
      },
      "execution_count": 67,
      "outputs": [
        {
          "output_type": "execute_result",
          "data": {
            "text/plain": [
              "(array([ 15.,  48.,  72., 120.,  64.,  31.,  21.,   8.,   8.,  17.]),\n",
              " array([ 5. ,  9.5, 14. , 18.5, 23. , 27.5, 32. , 36.5, 41. , 45.5, 50. ]),\n",
              " <a list of 10 Patch objects>)"
            ]
          },
          "metadata": {},
          "execution_count": 67
        },
        {
          "output_type": "display_data",
          "data": {
            "text/plain": [
              "<Figure size 432x288 with 1 Axes>"
            ],
            "image/png": "[encoded data removed]"
          },
          "metadata": {
            "needs_background": "light"
          }
        }
      ]
    },
    {
      "cell_type": "code",
      "source": [
        "# DATA NORMALİZASYONU\n",
        "ortalama = train_data.mean(axis=0)\n",
        "train_data = train_data - ortalama # ortalama = 0\n",
        "std = train_data.std(axis=0)\n",
        "train_data = train_data / std # standart sapma = 1\n",
        "# aynı dönüşüm işlemi test veri setinde de yapılmalı\n",
        "test_data = test_data - ortalama\n",
        "test_data = test_data / std"
      ],
      "metadata": {
        "id": "Vl2P4fB5zFpU"
      },
      "execution_count": 68,
      "outputs": []
    },
    {
      "cell_type": "code",
      "source": [
        "train_data.mean(axis=0)"
      ],
      "metadata": {
        "colab": {
          "base_uri": "https://localhost:8080/"
        },
        "id": "FKs6i7tHz5JM",
        "outputId": "821dd176-0ab0-47a4-bc91-3449014bec69"
      },
      "execution_count": 70,
      "outputs": [
        {
          "output_type": "execute_result",
          "data": {
            "text/plain": [
              "array([-1.01541438e-16,  1.09923072e-17,  1.80933376e-15, -7.80453809e-17,\n",
              "       -5.25047552e-15,  6.43187374e-15,  2.98441140e-16,  4.94653823e-16,\n",
              "        1.12671149e-17, -1.05526149e-16,  2.36614908e-14,  5.96710525e-15,\n",
              "        6.13920356e-16])"
            ]
          },
          "metadata": {},
          "execution_count": 70
        }
      ]
    },
    {
      "cell_type": "code",
      "source": [
        "train_data.std(axis=0)"
      ],
      "metadata": {
        "colab": {
          "base_uri": "https://localhost:8080/"
        },
        "id": "blnksw_Az8IV",
        "outputId": "82627da6-dead-4e09-85b1-634ec6df45c3"
      },
      "execution_count": 71,
      "outputs": [
        {
          "output_type": "execute_result",
          "data": {
            "text/plain": [
              "array([1., 1., 1., 1., 1., 1., 1., 1., 1., 1., 1., 1., 1.])"
            ]
          },
          "metadata": {},
          "execution_count": 71
        }
      ]
    },
    {
      "cell_type": "code",
      "source": [
        "# Model oluştur\n",
        "def yeni_model():\n",
        "  model = keras.Sequential([\n",
        "      layers.Dense(64, activation=\"relu\"),\n",
        "      layers.Dense(64, activation=\"relu\"),\n",
        "      layers.Dense(1)\n",
        "  ])\n",
        "  model.compile(optimizer=\"rmsprop\", loss=\"mse\", metrics=[\"mae\"]) # mse: Mean squared error,  mae: mean absolute error\n",
        "  return model"
      ],
      "metadata": {
        "id": "om4sAjnY0Cws"
      },
      "execution_count": 72,
      "outputs": []
    },
    {
      "cell_type": "code",
      "source": [
        "# K-fold cross-validation\n"
      ],
      "metadata": {
        "id": "tpWx9gS504Cm"
      },
      "execution_count": null,
      "outputs": []
    },
    {
      "cell_type": "markdown",
      "source": [
        "![kFoldCV.png](data:image/png;base64,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)"
      ],
      "metadata": {
        "id": "r7g6XT3Q1dJe"
      }
    },
    {
      "cell_type": "code",
      "source": [
        "k = 4\n",
        "num_val_samples = len(train_data) // k # //: tamsayı sonuç\n",
        "num_epochs = 100\n",
        "all_scores = []\n",
        "for i in range(k):\n",
        "  print(f\"Processing fold # {i}\")\n",
        "  val_data = train_data[i * num_val_samples: (i+1) * num_val_samples]\n",
        "  val_targets = train_targets[i * num_val_samples: (i+1) * num_val_samples]\n",
        "  kalan_train_data = np.concatenate([train_data[:i * num_val_samples], train_data[(i+1) * num_val_samples:]],axis=0)\n",
        "  kalan_train_targets = np.concatenate([train_targets[:i * num_val_samples], train_targets[(i+1) * num_val_samples:]],axis=0)\n",
        "  model = yeni_model()\n",
        "  model.fit(kalan_train_data,kalan_train_targets,epochs=num_epochs,batch_size=16,verbose=0)\n",
        "  val_mse, val_mae = model.evaluate(val_data, val_targets, verbose=0)\n",
        "  all_scores.append(val_mae)"
      ],
      "metadata": {
        "colab": {
          "base_uri": "https://localhost:8080/"
        },
        "id": "KBAb9IWn1f-_",
        "outputId": "c93a8207-0877-4b5e-9fed-fe0e290e7599"
      },
      "execution_count": 73,
      "outputs": [
        {
          "output_type": "stream",
          "name": "stdout",
          "text": [
            "Processing fold # 0\n",
            "Processing fold # 1\n",
            "Processing fold # 2\n",
            "Processing fold # 3\n"
          ]
        }
      ]
    },
    {
      "cell_type": "code",
      "source": [
        "all_scores"
      ],
      "metadata": {
        "colab": {
          "base_uri": "https://localhost:8080/"
        },
        "id": "QvMyfJA332uf",
        "outputId": "1e1872b3-0655-4d20-ca39-9125d8c5c2e4"
      },
      "execution_count": 74,
      "outputs": [
        {
          "output_type": "execute_result",
          "data": {
            "text/plain": [
              "[2.1350512504577637, 2.46467661857605, 2.496006965637207, 2.423469066619873]"
            ]
          },
          "metadata": {},
          "execution_count": 74
        }
      ]
    },
    {
      "cell_type": "code",
      "source": [
        "np.mean(all_scores)"
      ],
      "metadata": {
        "colab": {
          "base_uri": "https://localhost:8080/"
        },
        "id": "9UxZTzuN39RV",
        "outputId": "44497886-53a3-4f5d-ef2a-25a65c370171"
      },
      "execution_count": 75,
      "outputs": [
        {
          "output_type": "execute_result",
          "data": {
            "text/plain": [
              "2.3798009753227234"
            ]
          },
          "metadata": {},
          "execution_count": 75
        }
      ]
    },
    {
      "cell_type": "code",
      "source": [
        "num_val_samples = len(train_data) // k # //: tamsayı sonuç\n",
        "num_epochs = 200 # !\n",
        "all_scores = []\n",
        "for i in range(k):\n",
        "  print(f\"Processing fold # {i}\")\n",
        "  val_data = train_data[i * num_val_samples: (i+1) * num_val_samples]\n",
        "  val_targets = train_targets[i * num_val_samples: (i+1) * num_val_samples]\n",
        "  kalan_train_data = np.concatenate([train_data[:i * num_val_samples], train_data[(i+1) * num_val_samples:]],axis=0)\n",
        "  kalan_train_targets = np.concatenate([train_targets[:i * num_val_samples], train_targets[(i+1) * num_val_samples:]],axis=0)\n",
        "  model = yeni_model()\n",
        "  model.fit(kalan_train_data,kalan_train_targets,epochs=num_epochs,batch_size=16,verbose=0)\n",
        "  val_mse, val_mae = model.evaluate(val_data, val_targets, verbose=0)\n",
        "  all_scores.append(val_mae)\n",
        "np.mean(all_scores)"
      ],
      "metadata": {
        "colab": {
          "base_uri": "https://localhost:8080/"
        },
        "id": "YLmGd9wl4AYd",
        "outputId": "87c465ed-e3eb-4c02-ac5b-0ccabf5dd8d4"
      },
      "execution_count": 76,
      "outputs": [
        {
          "output_type": "stream",
          "name": "stdout",
          "text": [
            "Processing fold # 0\n",
            "Processing fold # 1\n",
            "Processing fold # 2\n",
            "Processing fold # 3\n"
          ]
        },
        {
          "output_type": "execute_result",
          "data": {
            "text/plain": [
              "2.3370927274227142"
            ]
          },
          "metadata": {},
          "execution_count": 76
        }
      ]
    },
    {
      "cell_type": "code",
      "source": [
        "def hesapla_epoch_perf(num_epochs,train_data,train_targets):\n",
        "  all_scores = []\n",
        "  for i in range(k):\n",
        "    print(f\"Processing fold # {i}\")\n",
        "    val_data = train_data[i * num_val_samples: (i+1) * num_val_samples]\n",
        "    val_targets = train_targets[i * num_val_samples: (i+1) * num_val_samples]\n",
        "    kalan_train_data = np.concatenate([train_data[:i * num_val_samples], train_data[(i+1) * num_val_samples:]],axis=0)\n",
        "    kalan_train_targets = np.concatenate([train_targets[:i * num_val_samples], train_targets[(i+1) * num_val_samples:]],axis=0)\n",
        "    model = yeni_model()\n",
        "    model.fit(kalan_train_data,kalan_train_targets,epochs=num_epochs,batch_size=16,verbose=0)\n",
        "    val_mse, val_mae = model.evaluate(val_data, val_targets, verbose=0)\n",
        "    all_scores.append(val_mae)\n",
        "  return np.mean(all_scores)"
      ],
      "metadata": {
        "id": "ARJs8kkC41em"
      },
      "execution_count": 81,
      "outputs": []
    },
    {
      "cell_type": "code",
      "source": [
        "mae_epoch_50 = hesapla_epoch_perf(50, train_data,train_targets)"
      ],
      "metadata": {
        "colab": {
          "base_uri": "https://localhost:8080/"
        },
        "id": "ukyEVV-65gwn",
        "outputId": "f8f9d999-7a25-48b9-80de-51e44cb32e58"
      },
      "execution_count": 78,
      "outputs": [
        {
          "output_type": "stream",
          "name": "stdout",
          "text": [
            "Processing fold # 0\n",
            "Processing fold # 1\n",
            "Processing fold # 2\n",
            "Processing fold # 3\n"
          ]
        }
      ]
    },
    {
      "cell_type": "code",
      "source": [
        "print(mae_epoch_50)"
      ],
      "metadata": {
        "colab": {
          "base_uri": "https://localhost:8080/"
        },
        "id": "Yjfi5e6q5rxn",
        "outputId": "ef02eef2-9dfd-4f28-bc45-33994e7c08fa"
      },
      "execution_count": 79,
      "outputs": [
        {
          "output_type": "stream",
          "name": "stdout",
          "text": [
            "2.3520129919052124\n"
          ]
        }
      ]
    },
    {
      "cell_type": "code",
      "source": [
        "epoch_vals = [50,100,150,200,300,400,500]\n",
        "for epoch_val in epoch_vals:\n",
        "  mae = hesapla_epoch_perf(epoch_val,train_data,train_targets)\n",
        "  print(f\" epoch={epoch_val} => mae={mae}\")"
      ],
      "metadata": {
        "colab": {
          "base_uri": "https://localhost:8080/"
        },
        "id": "bV6k4JWN50_W",
        "outputId": "a70d4aad-9d81-4992-a584-2b873118e9c4"
      },
      "execution_count": 82,
      "outputs": [
        {
          "output_type": "stream",
          "name": "stdout",
          "text": [
            "Processing fold # 0\n",
            "Processing fold # 1\n",
            "Processing fold # 2\n",
            "Processing fold # 3\n",
            " epoch=50 => mae=2.4404773116111755\n",
            "Processing fold # 0\n",
            "Processing fold # 1\n",
            "Processing fold # 2\n",
            "Processing fold # 3\n",
            " epoch=100 => mae=2.295438915491104\n",
            "Processing fold # 0\n",
            "Processing fold # 1\n",
            "Processing fold # 2\n",
            "Processing fold # 3\n",
            " epoch=150 => mae=2.3090766072273254\n",
            "Processing fold # 0\n",
            "Processing fold # 1\n",
            "Processing fold # 2\n",
            "Processing fold # 3\n",
            " epoch=200 => mae=2.244510054588318\n",
            "Processing fold # 0\n",
            "Processing fold # 1\n",
            "Processing fold # 2\n",
            "Processing fold # 3\n",
            " epoch=300 => mae=2.358342707157135\n",
            "Processing fold # 0\n",
            "Processing fold # 1\n",
            "Processing fold # 2\n",
            "Processing fold # 3\n",
            " epoch=400 => mae=2.462442636489868\n",
            "Processing fold # 0\n",
            "Processing fold # 1\n",
            "Processing fold # 2\n",
            "Processing fold # 3\n",
            " epoch=500 => mae=2.5960022807121277\n"
          ]
        }
      ]
    },
    {
      "cell_type": "code",
      "source": [
        "# optimum epoch=200 (data detaylı arama yapılabilir.)\n",
        "\n",
        "model = yeni_model()\n",
        "model.fit(train_data, train_targets, epochs=200, batch_size=16, verbose=0)\n",
        "test_mse_score, test_mae_score = model.evaluate(test_data, test_targets)"
      ],
      "metadata": {
        "colab": {
          "base_uri": "https://localhost:8080/"
        },
        "id": "f8-ofYnU6ifO",
        "outputId": "d379f695-a67f-4bee-c91b-f8b3ea57afcb"
      },
      "execution_count": 83,
      "outputs": [
        {
          "output_type": "stream",
          "name": "stdout",
          "text": [
            "4/4 [==============================] - 0s 2ms/step - loss: 14.1592 - mae: 2.4320\n"
          ]
        }
      ]
    },
    {
      "cell_type": "code",
      "source": [
        "print(test_mse_score,test_mae_score)"
      ],
      "metadata": {
        "colab": {
          "base_uri": "https://localhost:8080/"
        },
        "id": "MchyJWl78VIZ",
        "outputId": "b76480f4-e0ff-4d01-c8a1-44e1c10ee890"
      },
      "execution_count": 84,
      "outputs": [
        {
          "output_type": "stream",
          "name": "stdout",
          "text": [
            "14.159187316894531 2.4320242404937744\n"
          ]
        }
      ]
    },
    {
      "cell_type": "code",
      "source": [
        ""
      ],
      "metadata": {
        "id": "ihQdz-iE8d_O"
      },
      "execution_count": null,
      "outputs": []
    }
  ]
}