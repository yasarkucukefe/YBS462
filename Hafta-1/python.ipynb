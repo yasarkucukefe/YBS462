{
 "cells": [
  {
   "cell_type": "markdown",
   "id": "30ab20a7",
   "metadata": {},
   "source": [
    "## PYTHON"
   ]
  },
  {
   "cell_type": "code",
   "execution_count": null,
   "id": "8fae3063",
   "metadata": {},
   "outputs": [],
   "source": [
    "1 + 1"
   ]
  },
  {
   "cell_type": "code",
   "execution_count": 2,
   "id": "5b86cbd9",
   "metadata": {},
   "outputs": [],
   "source": [
    "degisken_ad = 4"
   ]
  },
  {
   "cell_type": "code",
   "execution_count": 3,
   "id": "7d1e0c19",
   "metadata": {},
   "outputs": [
    {
     "data": {
      "text/plain": [
       "'string ad'"
      ]
     },
     "execution_count": 3,
     "metadata": {},
     "output_type": "execute_result"
    }
   ],
   "source": [
    "'string ad'"
   ]
  },
  {
   "cell_type": "code",
   "execution_count": 4,
   "id": "2e1f2433",
   "metadata": {},
   "outputs": [
    {
     "data": {
      "text/plain": [
       "'string ad'"
      ]
     },
     "execution_count": 4,
     "metadata": {},
     "output_type": "execute_result"
    }
   ],
   "source": [
    "\"string ad\""
   ]
  },
  {
   "cell_type": "code",
   "execution_count": 5,
   "id": "3426fd07",
   "metadata": {},
   "outputs": [],
   "source": [
    "yas = 25\n",
    "isim = \"Mehmet\""
   ]
  },
  {
   "cell_type": "code",
   "execution_count": 7,
   "id": "1d084df3",
   "metadata": {},
   "outputs": [
    {
     "name": "stdout",
     "output_type": "stream",
     "text": [
      "İsim:Mehmet, yaş:25\n"
     ]
    }
   ],
   "source": [
    "print(\"İsim:\" + isim + \", yaş:\" + str(yas))"
   ]
  },
  {
   "cell_type": "code",
   "execution_count": 8,
   "id": "381b9fe9",
   "metadata": {},
   "outputs": [
    {
     "name": "stdout",
     "output_type": "stream",
     "text": [
      "İsim: Mehmet, yaş:25\n"
     ]
    }
   ],
   "source": [
    "print(f\"İsim: {isim}, yaş:{yas}\") # *****"
   ]
  },
  {
   "cell_type": "code",
   "execution_count": 10,
   "id": "4194e699",
   "metadata": {},
   "outputs": [
    {
     "name": "stdout",
     "output_type": "stream",
     "text": [
      "İsim: Mehmet, yaş:25\n"
     ]
    }
   ],
   "source": [
    "print(\"İsim: {a}, yaş:{b}\".format(a=isim,b=yas))"
   ]
  },
  {
   "cell_type": "code",
   "execution_count": 11,
   "id": "67e66446",
   "metadata": {},
   "outputs": [
    {
     "name": "stdout",
     "output_type": "stream",
     "text": [
      "isim: Mehmet, yaş:25\n"
     ]
    }
   ],
   "source": [
    "print(\"isim: {}, yaş:{}\".format(isim, yas))"
   ]
  },
  {
   "cell_type": "markdown",
   "id": "1dcdfe34",
   "metadata": {},
   "source": [
    "### Listeler"
   ]
  },
  {
   "cell_type": "code",
   "execution_count": 12,
   "id": "36ea5eb4",
   "metadata": {},
   "outputs": [
    {
     "data": {
      "text/plain": [
       "[1, 2, 3, 4, 'elma', 'portakala', True]"
      ]
     },
     "execution_count": 12,
     "metadata": {},
     "output_type": "execute_result"
    }
   ],
   "source": [
    "[1,2,3,4,'elma','portakala',True]"
   ]
  },
  {
   "cell_type": "code",
   "execution_count": 13,
   "id": "31540f89",
   "metadata": {},
   "outputs": [],
   "source": [
    "liste = [1,2,3,4,'elma','portakala',True]"
   ]
  },
  {
   "cell_type": "code",
   "execution_count": 14,
   "id": "7147cb55",
   "metadata": {},
   "outputs": [
    {
     "data": {
      "text/plain": [
       "2"
      ]
     },
     "execution_count": 14,
     "metadata": {},
     "output_type": "execute_result"
    }
   ],
   "source": [
    "liste[1] # çıktı: 2"
   ]
  },
  {
   "cell_type": "markdown",
   "id": "5cb02092",
   "metadata": {},
   "source": [
    "### Dictionary (sözlük)"
   ]
  },
  {
   "cell_type": "code",
   "execution_count": 15,
   "id": "cea74a7f",
   "metadata": {},
   "outputs": [],
   "source": [
    "s = {'isim':'Yaşar', 'yas':50}"
   ]
  },
  {
   "cell_type": "code",
   "execution_count": 16,
   "id": "d6776565",
   "metadata": {},
   "outputs": [
    {
     "data": {
      "text/plain": [
       "'Yaşar'"
      ]
     },
     "execution_count": 16,
     "metadata": {},
     "output_type": "execute_result"
    }
   ],
   "source": [
    "s['isim']"
   ]
  },
  {
   "cell_type": "code",
   "execution_count": 17,
   "id": "ecf054ed",
   "metadata": {},
   "outputs": [
    {
     "name": "stdout",
     "output_type": "stream",
     "text": [
      "İsim: Yaşar, yaş:50\n"
     ]
    }
   ],
   "source": [
    "print(f\"İsim: {s['isim']}, yaş:{s['yas']}\")"
   ]
  },
  {
   "cell_type": "markdown",
   "id": "abfad2be",
   "metadata": {},
   "source": [
    "### Tuple (dizin)"
   ]
  },
  {
   "cell_type": "code",
   "execution_count": 18,
   "id": "1b7687a0",
   "metadata": {},
   "outputs": [],
   "source": [
    "t = (1,2,3) "
   ]
  },
  {
   "cell_type": "code",
   "execution_count": 20,
   "id": "d0ab55fe",
   "metadata": {},
   "outputs": [
    {
     "ename": "TypeError",
     "evalue": "'tuple' object does not support item assignment",
     "output_type": "error",
     "traceback": [
      "\u001b[1;31m---------------------------------------------------------------------------\u001b[0m",
      "\u001b[1;31mTypeError\u001b[0m                                 Traceback (most recent call last)",
      "\u001b[1;32m~\\AppData\\Local\\Temp/ipykernel_6912/3363330211.py\u001b[0m in \u001b[0;36m<module>\u001b[1;34m\u001b[0m\n\u001b[1;32m----> 1\u001b[1;33m \u001b[0mt\u001b[0m\u001b[1;33m[\u001b[0m\u001b[1;36m1\u001b[0m\u001b[1;33m]\u001b[0m \u001b[1;33m=\u001b[0m \u001b[1;36m5\u001b[0m \u001b[1;31m# Tuple elemanları değiştirilemez\u001b[0m\u001b[1;33m\u001b[0m\u001b[1;33m\u001b[0m\u001b[0m\n\u001b[0m",
      "\u001b[1;31mTypeError\u001b[0m: 'tuple' object does not support item assignment"
     ]
    }
   ],
   "source": [
    "t[1] = 5 # Tuple elemanları değiştirilemez"
   ]
  },
  {
   "cell_type": "markdown",
   "id": "66f38767",
   "metadata": {},
   "source": [
    "### Kümeler"
   ]
  },
  {
   "cell_type": "code",
   "execution_count": 21,
   "id": "941169e5",
   "metadata": {},
   "outputs": [
    {
     "data": {
      "text/plain": [
       "{1, 2, 3}"
      ]
     },
     "execution_count": 21,
     "metadata": {},
     "output_type": "execute_result"
    }
   ],
   "source": [
    "{1,2,3}"
   ]
  },
  {
   "cell_type": "code",
   "execution_count": 22,
   "id": "d989c1a0",
   "metadata": {},
   "outputs": [
    {
     "data": {
      "text/plain": [
       "{1, 2, 3, 4, 5}"
      ]
     },
     "execution_count": 22,
     "metadata": {},
     "output_type": "execute_result"
    }
   ],
   "source": [
    "{1,2,3,1,2,3,4,2,3,5,1,2,3,4}"
   ]
  },
  {
   "cell_type": "markdown",
   "id": "b74aa3c7",
   "metadata": {},
   "source": [
    "### Karşılaştırma Operatörleri (Comparison)"
   ]
  },
  {
   "cell_type": "code",
   "execution_count": 23,
   "id": "9f5a13d7",
   "metadata": {},
   "outputs": [
    {
     "data": {
      "text/plain": [
       "False"
      ]
     },
     "execution_count": 23,
     "metadata": {},
     "output_type": "execute_result"
    }
   ],
   "source": [
    "1 > 2"
   ]
  },
  {
   "cell_type": "code",
   "execution_count": 24,
   "id": "d31923a4",
   "metadata": {},
   "outputs": [
    {
     "data": {
      "text/plain": [
       "True"
      ]
     },
     "execution_count": 24,
     "metadata": {},
     "output_type": "execute_result"
    }
   ],
   "source": [
    "1 <= 3"
   ]
  },
  {
   "cell_type": "code",
   "execution_count": 25,
   "id": "f587ed8d",
   "metadata": {},
   "outputs": [
    {
     "data": {
      "text/plain": [
       "True"
      ]
     },
     "execution_count": 25,
     "metadata": {},
     "output_type": "execute_result"
    }
   ],
   "source": [
    "1 == 1"
   ]
  },
  {
   "cell_type": "markdown",
   "id": "a25be43e",
   "metadata": {},
   "source": [
    "### Mantık Operatörleri"
   ]
  },
  {
   "cell_type": "code",
   "execution_count": 26,
   "id": "eabcd466",
   "metadata": {},
   "outputs": [
    {
     "data": {
      "text/plain": [
       "False"
      ]
     },
     "execution_count": 26,
     "metadata": {},
     "output_type": "execute_result"
    }
   ],
   "source": [
    "(1 > 2) and (2 < 3)"
   ]
  },
  {
   "cell_type": "markdown",
   "id": "32e26773",
   "metadata": {},
   "source": [
    "### if, elif, else"
   ]
  },
  {
   "cell_type": "code",
   "execution_count": 27,
   "id": "5c1385de",
   "metadata": {},
   "outputs": [
    {
     "name": "stdout",
     "output_type": "stream",
     "text": [
      "kesinlikle\n"
     ]
    }
   ],
   "source": [
    "if 1 < 2:\n",
    "    print(\"kesinlikle\")"
   ]
  },
  {
   "cell_type": "code",
   "execution_count": 29,
   "id": "174b590c",
   "metadata": {},
   "outputs": [
    {
     "name": "stdout",
     "output_type": "stream",
     "text": [
      "a >= 2\n"
     ]
    }
   ],
   "source": [
    "a = 3\n",
    "if a < 2:\n",
    "    print(\"kesinlikle\")\n",
    "else:\n",
    "    print(\"a >= 2\")"
   ]
  },
  {
   "cell_type": "code",
   "execution_count": 30,
   "id": "db4440ec",
   "metadata": {},
   "outputs": [
    {
     "name": "stdout",
     "output_type": "stream",
     "text": [
      "diğer durumlar\n"
     ]
    }
   ],
   "source": [
    "b = 2\n",
    "if b < 1:\n",
    "    print(\"b < 1\")\n",
    "elif b > 2 and b < 4:\n",
    "    print(\"b>2 ve b < 4\")\n",
    "else:\n",
    "    print(\"diğer durumlar\")"
   ]
  },
  {
   "cell_type": "markdown",
   "id": "097a13d8",
   "metadata": {},
   "source": [
    "### Döngüler"
   ]
  },
  {
   "cell_type": "code",
   "execution_count": 31,
   "id": "17150861",
   "metadata": {},
   "outputs": [],
   "source": [
    "seri = [1,2,3,4,5]"
   ]
  },
  {
   "cell_type": "code",
   "execution_count": 32,
   "id": "dd2a8d11",
   "metadata": {},
   "outputs": [
    {
     "name": "stdout",
     "output_type": "stream",
     "text": [
      "1\n",
      "2\n",
      "3\n",
      "4\n",
      "5\n"
     ]
    }
   ],
   "source": [
    "for rakam in seri:\n",
    "    print(rakam)"
   ]
  },
  {
   "cell_type": "code",
   "execution_count": 33,
   "id": "7897b849",
   "metadata": {},
   "outputs": [
    {
     "name": "stdout",
     "output_type": "stream",
     "text": [
      "1\n",
      "2\n"
     ]
    }
   ],
   "source": [
    "for rakam in range(1,3):\n",
    "    print(rakam)"
   ]
  },
  {
   "cell_type": "code",
   "execution_count": 34,
   "id": "f9d136d9",
   "metadata": {},
   "outputs": [
    {
     "name": "stdout",
     "output_type": "stream",
     "text": [
      "1\n",
      "2\n",
      "3\n",
      "4\n"
     ]
    }
   ],
   "source": [
    "i = 1\n",
    "while i < 5:\n",
    "    print(i)\n",
    "    i = i + 1"
   ]
  },
  {
   "cell_type": "markdown",
   "id": "7048eb84",
   "metadata": {},
   "source": [
    "### List comprehension"
   ]
  },
  {
   "cell_type": "code",
   "execution_count": 35,
   "id": "c73855a4",
   "metadata": {},
   "outputs": [
    {
     "name": "stdout",
     "output_type": "stream",
     "text": [
      "[1, 4, 9, 16, 25]\n"
     ]
    }
   ],
   "source": [
    "x = [1,2,3,4,5]\n",
    "# x'in elemanlarının karesini hesaplamak için [1,4,9,16,25]\n",
    "y = []\n",
    "for rakam in x:\n",
    "    y.append(rakam**2)\n",
    "print(y)"
   ]
  },
  {
   "cell_type": "code",
   "execution_count": 36,
   "id": "8fad0589",
   "metadata": {},
   "outputs": [],
   "source": [
    "y = [rakam**2 for rakam in x] # List comprehension"
   ]
  },
  {
   "cell_type": "code",
   "execution_count": 37,
   "id": "5b74ed87",
   "metadata": {},
   "outputs": [
    {
     "name": "stdout",
     "output_type": "stream",
     "text": [
      "[1, 4, 9, 16, 25]\n"
     ]
    }
   ],
   "source": [
    "print(y)"
   ]
  },
  {
   "cell_type": "code",
   "execution_count": 38,
   "id": "19426506",
   "metadata": {},
   "outputs": [
    {
     "name": "stdout",
     "output_type": "stream",
     "text": [
      "[1, 2, 3, 4, 5]\n"
     ]
    }
   ],
   "source": [
    "print(x)"
   ]
  },
  {
   "cell_type": "code",
   "execution_count": null,
   "id": "12b69286",
   "metadata": {},
   "outputs": [],
   "source": [
    "y = [rakam**2 for rakam in x if rakam % 2 == 0]"
   ]
  },
  {
   "cell_type": "code",
   "execution_count": 40,
   "id": "8f7306f0",
   "metadata": {},
   "outputs": [
    {
     "name": "stdout",
     "output_type": "stream",
     "text": [
      "[4, 16]\n"
     ]
    }
   ],
   "source": [
    "print(y)"
   ]
  },
  {
   "cell_type": "markdown",
   "id": "5432bc27",
   "metadata": {},
   "source": [
    "### Fonksiyonlar"
   ]
  },
  {
   "cell_type": "code",
   "execution_count": 43,
   "id": "2a01140b",
   "metadata": {},
   "outputs": [],
   "source": [
    "def fonk(param1='varsayılan deger'):\n",
    "    \"\"\"\n",
    "    Fonksiyon hakkında bilgi\n",
    "    \"\"\"\n",
    "    print(param1)"
   ]
  },
  {
   "cell_type": "code",
   "execution_count": 42,
   "id": "e9541b60",
   "metadata": {},
   "outputs": [
    {
     "name": "stdout",
     "output_type": "stream",
     "text": [
      "Merhaba\n"
     ]
    }
   ],
   "source": [
    "fonk('Merhaba')"
   ]
  },
  {
   "cell_type": "code",
   "execution_count": 44,
   "id": "921ecc47",
   "metadata": {},
   "outputs": [
    {
     "name": "stdout",
     "output_type": "stream",
     "text": [
      "varsayılan deger\n"
     ]
    }
   ],
   "source": [
    "fonk()"
   ]
  },
  {
   "cell_type": "code",
   "execution_count": 45,
   "id": "5d762be8",
   "metadata": {},
   "outputs": [],
   "source": [
    "def fonk2(a: int, b: int, islem: str)->int:\n",
    "    if islem == '*':\n",
    "        return a * b\n",
    "    else:\n",
    "        return a - b"
   ]
  },
  {
   "cell_type": "code",
   "execution_count": 46,
   "id": "5ee7e708",
   "metadata": {},
   "outputs": [
    {
     "data": {
      "text/plain": [
       "6"
      ]
     },
     "execution_count": 46,
     "metadata": {},
     "output_type": "execute_result"
    }
   ],
   "source": [
    "fonk2(a=3, b=2, islem='*')"
   ]
  },
  {
   "cell_type": "code",
   "execution_count": 49,
   "id": "e30e9f01",
   "metadata": {},
   "outputs": [
    {
     "data": {
      "text/plain": [
       "6"
      ]
     },
     "execution_count": 49,
     "metadata": {},
     "output_type": "execute_result"
    }
   ],
   "source": [
    "fonk2(3,2,'*') # fonk2(a=3, b=2, islem='*')"
   ]
  },
  {
   "cell_type": "code",
   "execution_count": 50,
   "id": "88608597",
   "metadata": {},
   "outputs": [
    {
     "data": {
      "text/plain": [
       "-1"
      ]
     },
     "execution_count": 50,
     "metadata": {},
     "output_type": "execute_result"
    }
   ],
   "source": [
    "fonk2(b=2, islem='-', a=1)"
   ]
  },
  {
   "cell_type": "markdown",
   "id": "1b9db99e",
   "metadata": {},
   "source": [
    "### Lambda ifadeleri"
   ]
  },
  {
   "cell_type": "code",
   "execution_count": 51,
   "id": "d152ce10",
   "metadata": {},
   "outputs": [],
   "source": [
    "def carpi2(rakam):\n",
    "    return 2 * rakam"
   ]
  },
  {
   "cell_type": "code",
   "execution_count": 55,
   "id": "8d85b15f",
   "metadata": {},
   "outputs": [],
   "source": [
    "lmd = lambda rakam: rakam*2"
   ]
  },
  {
   "cell_type": "code",
   "execution_count": 56,
   "id": "726558ca",
   "metadata": {},
   "outputs": [
    {
     "data": {
      "text/plain": [
       "4"
      ]
     },
     "execution_count": 56,
     "metadata": {},
     "output_type": "execute_result"
    }
   ],
   "source": [
    "lmd(2)"
   ]
  },
  {
   "cell_type": "markdown",
   "id": "7041fc53",
   "metadata": {},
   "source": [
    "### map ve filter"
   ]
  },
  {
   "cell_type": "code",
   "execution_count": 57,
   "id": "c3007b6c",
   "metadata": {},
   "outputs": [],
   "source": [
    "seri = [1,2,3,4,5]"
   ]
  },
  {
   "cell_type": "code",
   "execution_count": 58,
   "id": "f718ae39",
   "metadata": {},
   "outputs": [
    {
     "data": {
      "text/plain": [
       "<function __main__.carpi2(rakam)>"
      ]
     },
     "execution_count": 58,
     "metadata": {},
     "output_type": "execute_result"
    }
   ],
   "source": [
    "carpi2"
   ]
  },
  {
   "cell_type": "code",
   "execution_count": 59,
   "id": "7796f473",
   "metadata": {},
   "outputs": [
    {
     "data": {
      "text/plain": [
       "[1, 2, 3, 4, 5, 1, 2, 3, 4, 5]"
      ]
     },
     "execution_count": 59,
     "metadata": {},
     "output_type": "execute_result"
    }
   ],
   "source": [
    "2 * seri"
   ]
  },
  {
   "cell_type": "code",
   "execution_count": 60,
   "id": "5d5ad6d8",
   "metadata": {},
   "outputs": [
    {
     "data": {
      "text/plain": [
       "<map at 0x17adc1cafa0>"
      ]
     },
     "execution_count": 60,
     "metadata": {},
     "output_type": "execute_result"
    }
   ],
   "source": [
    "# [2,4,6,8,10], seri elemanlarını iki ile çarpmak için\n",
    "map(carpi2,seri)"
   ]
  },
  {
   "cell_type": "code",
   "execution_count": 61,
   "id": "e3416a63",
   "metadata": {},
   "outputs": [
    {
     "data": {
      "text/plain": [
       "[2, 4, 6, 8, 10]"
      ]
     },
     "execution_count": 61,
     "metadata": {},
     "output_type": "execute_result"
    }
   ],
   "source": [
    "list(map(carpi2,seri))"
   ]
  },
  {
   "cell_type": "code",
   "execution_count": 62,
   "id": "9d047482",
   "metadata": {},
   "outputs": [
    {
     "data": {
      "text/plain": [
       "<filter at 0x17adc1ca460>"
      ]
     },
     "execution_count": 62,
     "metadata": {},
     "output_type": "execute_result"
    }
   ],
   "source": [
    "filter(lambda rakam: rakam % 2 == 1, seri)"
   ]
  },
  {
   "cell_type": "code",
   "execution_count": 63,
   "id": "e5a39201",
   "metadata": {},
   "outputs": [
    {
     "data": {
      "text/plain": [
       "[1, 3, 5]"
      ]
     },
     "execution_count": 63,
     "metadata": {},
     "output_type": "execute_result"
    }
   ],
   "source": [
    "list(filter(lambda rakam: rakam % 2 == 1, seri))"
   ]
  },
  {
   "cell_type": "markdown",
   "id": "264364a2",
   "metadata": {},
   "source": [
    "### method"
   ]
  },
  {
   "cell_type": "code",
   "execution_count": 64,
   "id": "786c275a",
   "metadata": {},
   "outputs": [],
   "source": [
    "metin = 'Bugün günlerden Salı.'"
   ]
  },
  {
   "cell_type": "code",
   "execution_count": 65,
   "id": "8068e445",
   "metadata": {},
   "outputs": [
    {
     "data": {
      "text/plain": [
       "'bugün günlerden salı.'"
      ]
     },
     "execution_count": 65,
     "metadata": {},
     "output_type": "execute_result"
    }
   ],
   "source": [
    "metin.lower()"
   ]
  },
  {
   "cell_type": "code",
   "execution_count": 66,
   "id": "d4e87639",
   "metadata": {},
   "outputs": [
    {
     "data": {
      "text/plain": [
       "'BUGÜN GÜNLERDEN SALI.'"
      ]
     },
     "execution_count": 66,
     "metadata": {},
     "output_type": "execute_result"
    }
   ],
   "source": [
    "metin.upper()"
   ]
  },
  {
   "cell_type": "code",
   "execution_count": 67,
   "id": "bd281cc2",
   "metadata": {},
   "outputs": [
    {
     "data": {
      "text/plain": [
       "['Bugün', 'günlerden', 'Salı.']"
      ]
     },
     "execution_count": 67,
     "metadata": {},
     "output_type": "execute_result"
    }
   ],
   "source": [
    "metin.split()"
   ]
  },
  {
   "cell_type": "code",
   "execution_count": 68,
   "id": "8347ce95",
   "metadata": {},
   "outputs": [
    {
     "data": {
      "text/plain": [
       "[5, 9, 5]"
      ]
     },
     "execution_count": 68,
     "metadata": {},
     "output_type": "execute_result"
    }
   ],
   "source": [
    "list(map(len,metin.split()))"
   ]
  },
  {
   "cell_type": "markdown",
   "id": "7473d911",
   "metadata": {},
   "source": [
    "## NumPy"
   ]
  },
  {
   "cell_type": "code",
   "execution_count": 69,
   "id": "cd575262",
   "metadata": {},
   "outputs": [],
   "source": [
    "import numpy as np"
   ]
  },
  {
   "cell_type": "code",
   "execution_count": 70,
   "id": "f6c3bd4e",
   "metadata": {},
   "outputs": [],
   "source": [
    "liste = [1,2,3]"
   ]
  },
  {
   "cell_type": "code",
   "execution_count": 71,
   "id": "a366bd84",
   "metadata": {},
   "outputs": [
    {
     "name": "stdout",
     "output_type": "stream",
     "text": [
      "[1, 2, 3]\n"
     ]
    }
   ],
   "source": [
    "print(liste)"
   ]
  },
  {
   "cell_type": "code",
   "execution_count": 72,
   "id": "98694565",
   "metadata": {},
   "outputs": [
    {
     "data": {
      "text/plain": [
       "array([1, 2, 3])"
      ]
     },
     "execution_count": 72,
     "metadata": {},
     "output_type": "execute_result"
    }
   ],
   "source": [
    "np.array(liste)"
   ]
  },
  {
   "cell_type": "code",
   "execution_count": 74,
   "id": "adcd0272",
   "metadata": {},
   "outputs": [],
   "source": [
    "matris = np.array([[1,2,3],[4,5,6],[7,8,9]])"
   ]
  },
  {
   "cell_type": "code",
   "execution_count": 75,
   "id": "5975e997",
   "metadata": {},
   "outputs": [
    {
     "name": "stdout",
     "output_type": "stream",
     "text": [
      "[[1 2 3]\n",
      " [4 5 6]\n",
      " [7 8 9]]\n"
     ]
    }
   ],
   "source": [
    "print(matris)"
   ]
  },
  {
   "cell_type": "code",
   "execution_count": 76,
   "id": "89abde50",
   "metadata": {},
   "outputs": [
    {
     "data": {
      "text/plain": [
       "numpy.ndarray"
      ]
     },
     "execution_count": 76,
     "metadata": {},
     "output_type": "execute_result"
    }
   ],
   "source": [
    "type(matris)"
   ]
  },
  {
   "cell_type": "code",
   "execution_count": 77,
   "id": "0493897b",
   "metadata": {},
   "outputs": [
    {
     "data": {
      "text/plain": [
       "list"
      ]
     },
     "execution_count": 77,
     "metadata": {},
     "output_type": "execute_result"
    }
   ],
   "source": [
    "type(liste)"
   ]
  },
  {
   "cell_type": "code",
   "execution_count": 78,
   "id": "284cfc05",
   "metadata": {},
   "outputs": [
    {
     "data": {
      "text/plain": [
       "array([0, 1, 2, 3, 4, 5, 6, 7, 8, 9])"
      ]
     },
     "execution_count": 78,
     "metadata": {},
     "output_type": "execute_result"
    }
   ],
   "source": [
    "np.arange(0,10)"
   ]
  },
  {
   "cell_type": "code",
   "execution_count": 81,
   "id": "b951dbb4",
   "metadata": {},
   "outputs": [
    {
     "data": {
      "text/plain": [
       "array([[0., 0., 0., 0., 0., 0.],\n",
       "       [0., 0., 0., 0., 0., 0.],\n",
       "       [0., 0., 0., 0., 0., 0.],\n",
       "       [0., 0., 0., 0., 0., 0.],\n",
       "       [0., 0., 0., 0., 0., 0.],\n",
       "       [0., 0., 0., 0., 0., 0.]])"
      ]
     },
     "execution_count": 81,
     "metadata": {},
     "output_type": "execute_result"
    }
   ],
   "source": [
    "np.zeros((6,6))"
   ]
  },
  {
   "cell_type": "code",
   "execution_count": 82,
   "id": "0569d250",
   "metadata": {},
   "outputs": [
    {
     "data": {
      "text/plain": [
       "array([[1., 1., 1., 1., 1., 1.],\n",
       "       [1., 1., 1., 1., 1., 1.],\n",
       "       [1., 1., 1., 1., 1., 1.],\n",
       "       [1., 1., 1., 1., 1., 1.],\n",
       "       [1., 1., 1., 1., 1., 1.],\n",
       "       [1., 1., 1., 1., 1., 1.]])"
      ]
     },
     "execution_count": 82,
     "metadata": {},
     "output_type": "execute_result"
    }
   ],
   "source": [
    "np.ones((6,6))"
   ]
  },
  {
   "cell_type": "code",
   "execution_count": 84,
   "id": "7b1c782e",
   "metadata": {},
   "outputs": [
    {
     "data": {
      "text/plain": [
       "array([[1., 0., 0., 0., 0.],\n",
       "       [0., 1., 0., 0., 0.],\n",
       "       [0., 0., 1., 0., 0.],\n",
       "       [0., 0., 0., 1., 0.],\n",
       "       [0., 0., 0., 0., 1.]])"
      ]
     },
     "execution_count": 84,
     "metadata": {},
     "output_type": "execute_result"
    }
   ],
   "source": [
    "np.eye(5)"
   ]
  },
  {
   "cell_type": "code",
   "execution_count": 85,
   "id": "472832bf",
   "metadata": {},
   "outputs": [
    {
     "data": {
      "text/plain": [
       "array([0.60805659, 0.53369843])"
      ]
     },
     "execution_count": 85,
     "metadata": {},
     "output_type": "execute_result"
    }
   ],
   "source": [
    "np.random.rand(2) # Uniform dağılım [0,1)"
   ]
  },
  {
   "cell_type": "code",
   "execution_count": 93,
   "id": "5675d392",
   "metadata": {},
   "outputs": [
    {
     "data": {
      "text/plain": [
       "array([-1.21503297,  1.89771472])"
      ]
     },
     "execution_count": 93,
     "metadata": {},
     "output_type": "execute_result"
    }
   ],
   "source": [
    "np.random.randn(2) # Normal dağılım (ortalaması 0, standart sapması 1 olan rasgele sayılar)"
   ]
  },
  {
   "cell_type": "code",
   "execution_count": 100,
   "id": "c3511458",
   "metadata": {},
   "outputs": [
    {
     "data": {
      "text/plain": [
       "87"
      ]
     },
     "execution_count": 100,
     "metadata": {},
     "output_type": "execute_result"
    }
   ],
   "source": [
    "np.random.randint(1,100) # tam sayı rasgele 100 hariç"
   ]
  },
  {
   "cell_type": "code",
   "execution_count": null,
   "id": "e6df13ca",
   "metadata": {},
   "outputs": [],
   "source": []
  }
 ],
 "metadata": {
  "kernelspec": {
   "display_name": "Python 3 (ipykernel)",
   "language": "python",
   "name": "python3"
  },
  "language_info": {
   "codemirror_mode": {
    "name": "ipython",
    "version": 3
   },
   "file_extension": ".py",
   "mimetype": "text/x-python",
   "name": "python",
   "nbconvert_exporter": "python",
   "pygments_lexer": "ipython3",
   "version": "3.9.5"
  }
 },
 "nbformat": 4,
 "nbformat_minor": 5
}
