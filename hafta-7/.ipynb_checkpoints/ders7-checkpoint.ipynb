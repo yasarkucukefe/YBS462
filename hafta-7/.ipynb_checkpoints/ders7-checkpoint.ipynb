{
 "cells": [
  {
   "cell_type": "code",
   "execution_count": null,
   "id": "4ca5b37f",
   "metadata": {},
   "outputs": [],
   "source": [
    "# https://scikit-learn.org/stable/modules/generated/sklearn.model_selection.GridSearchCV.html\n",
    "# GridSeacrhCV kullanarak, bir makine öğrenmesi modelinin hiper-parametreleri farklı değerler için test edilebilir.\n",
    "# Bu farklı parametreler için model performansı değerlendirilebilir."
   ]
  },
  {
   "cell_type": "code",
   "execution_count": 83,
   "id": "bef6d307",
   "metadata": {},
   "outputs": [],
   "source": [
    "# Örnek\n",
    "from sklearn import svm, datasets\n",
    "iris = datasets.load_iris()"
   ]
  },
  {
   "cell_type": "code",
   "execution_count": 84,
   "id": "0bf0bb5a",
   "metadata": {},
   "outputs": [],
   "source": [
    "X, y = iris.data, iris.target"
   ]
  },
  {
   "cell_type": "code",
   "execution_count": 85,
   "id": "87bd1502",
   "metadata": {},
   "outputs": [],
   "source": [
    "from sklearn.model_selection import train_test_split"
   ]
  },
  {
   "cell_type": "code",
   "execution_count": 86,
   "id": "f0fd8a32",
   "metadata": {},
   "outputs": [],
   "source": [
    "X_train, X_test, y_train, y_test = train_test_split(X, y, test_size=0.20)"
   ]
  },
  {
   "cell_type": "code",
   "execution_count": 87,
   "id": "5c9bdc40",
   "metadata": {},
   "outputs": [],
   "source": [
    "svc = svm.SVC() # default C=1.0, kernel='rbf'  ,https://scikit-learn.org/stable/modules/generated/sklearn.svm.SVC.html"
   ]
  },
  {
   "cell_type": "code",
   "execution_count": 88,
   "id": "9b360bbf",
   "metadata": {},
   "outputs": [
    {
     "data": {
      "text/plain": [
       "SVC()"
      ]
     },
     "execution_count": 88,
     "metadata": {},
     "output_type": "execute_result"
    }
   ],
   "source": [
    "svc.fit(X_train,y_train)"
   ]
  },
  {
   "cell_type": "code",
   "execution_count": 89,
   "id": "47c1e1a9",
   "metadata": {},
   "outputs": [],
   "source": [
    "tahminler = svc.predict(X_test)"
   ]
  },
  {
   "cell_type": "code",
   "execution_count": 90,
   "id": "fc0785d2",
   "metadata": {},
   "outputs": [],
   "source": [
    "from sklearn.metrics import classification_report"
   ]
  },
  {
   "cell_type": "code",
   "execution_count": 91,
   "id": "71c131e9",
   "metadata": {},
   "outputs": [
    {
     "name": "stdout",
     "output_type": "stream",
     "text": [
      "              precision    recall  f1-score   support\n",
      "\n",
      "           0       1.00      1.00      1.00        14\n",
      "           1       1.00      1.00      1.00        10\n",
      "           2       1.00      1.00      1.00         6\n",
      "\n",
      "    accuracy                           1.00        30\n",
      "   macro avg       1.00      1.00      1.00        30\n",
      "weighted avg       1.00      1.00      1.00        30\n",
      "\n"
     ]
    }
   ],
   "source": [
    "print(classification_report(y_test, tahminler))"
   ]
  },
  {
   "cell_type": "code",
   "execution_count": 93,
   "id": "7f917c77",
   "metadata": {},
   "outputs": [
    {
     "name": "stdout",
     "output_type": "stream",
     "text": [
      "[[14  0  0]\n",
      " [ 0 10  0]\n",
      " [ 0  0  6]]\n"
     ]
    }
   ],
   "source": [
    "print(confusion_matrix(y_test,tahminler))"
   ]
  },
  {
   "cell_type": "code",
   "execution_count": 33,
   "id": "1ae75277",
   "metadata": {},
   "outputs": [
    {
     "name": "stdout",
     "output_type": "stream",
     "text": [
      "Kernel=rbf, C=1\n",
      "              precision    recall  f1-score   support\n",
      "\n",
      "           0       1.00      1.00      1.00         7\n",
      "           1       1.00      0.91      0.95        11\n",
      "           2       0.92      1.00      0.96        12\n",
      "\n",
      "    accuracy                           0.97        30\n",
      "   macro avg       0.97      0.97      0.97        30\n",
      "weighted avg       0.97      0.97      0.97        30\n",
      "\n",
      "Kernel=rbf, C=5\n",
      "              precision    recall  f1-score   support\n",
      "\n",
      "           0       1.00      1.00      1.00         7\n",
      "           1       1.00      0.91      0.95        11\n",
      "           2       0.92      1.00      0.96        12\n",
      "\n",
      "    accuracy                           0.97        30\n",
      "   macro avg       0.97      0.97      0.97        30\n",
      "weighted avg       0.97      0.97      0.97        30\n",
      "\n",
      "Kernel=rbf, C=10\n",
      "              precision    recall  f1-score   support\n",
      "\n",
      "           0       1.00      1.00      1.00         7\n",
      "           1       1.00      0.91      0.95        11\n",
      "           2       0.92      1.00      0.96        12\n",
      "\n",
      "    accuracy                           0.97        30\n",
      "   macro avg       0.97      0.97      0.97        30\n",
      "weighted avg       0.97      0.97      0.97        30\n",
      "\n",
      "Kernel=rbf, C=15\n",
      "              precision    recall  f1-score   support\n",
      "\n",
      "           0       1.00      1.00      1.00         7\n",
      "           1       1.00      0.91      0.95        11\n",
      "           2       0.92      1.00      0.96        12\n",
      "\n",
      "    accuracy                           0.97        30\n",
      "   macro avg       0.97      0.97      0.97        30\n",
      "weighted avg       0.97      0.97      0.97        30\n",
      "\n",
      "Kernel=rbf, C=20\n",
      "              precision    recall  f1-score   support\n",
      "\n",
      "           0       1.00      1.00      1.00         7\n",
      "           1       1.00      0.91      0.95        11\n",
      "           2       0.92      1.00      0.96        12\n",
      "\n",
      "    accuracy                           0.97        30\n",
      "   macro avg       0.97      0.97      0.97        30\n",
      "weighted avg       0.97      0.97      0.97        30\n",
      "\n",
      "Kernel=linear, C=1\n",
      "              precision    recall  f1-score   support\n",
      "\n",
      "           0       1.00      1.00      1.00         7\n",
      "           1       1.00      0.91      0.95        11\n",
      "           2       0.92      1.00      0.96        12\n",
      "\n",
      "    accuracy                           0.97        30\n",
      "   macro avg       0.97      0.97      0.97        30\n",
      "weighted avg       0.97      0.97      0.97        30\n",
      "\n",
      "Kernel=linear, C=5\n",
      "              precision    recall  f1-score   support\n",
      "\n",
      "           0       1.00      1.00      1.00         7\n",
      "           1       1.00      0.82      0.90        11\n",
      "           2       0.86      1.00      0.92        12\n",
      "\n",
      "    accuracy                           0.93        30\n",
      "   macro avg       0.95      0.94      0.94        30\n",
      "weighted avg       0.94      0.93      0.93        30\n",
      "\n",
      "Kernel=linear, C=10\n",
      "              precision    recall  f1-score   support\n",
      "\n",
      "           0       1.00      1.00      1.00         7\n",
      "           1       1.00      0.91      0.95        11\n",
      "           2       0.92      1.00      0.96        12\n",
      "\n",
      "    accuracy                           0.97        30\n",
      "   macro avg       0.97      0.97      0.97        30\n",
      "weighted avg       0.97      0.97      0.97        30\n",
      "\n",
      "Kernel=linear, C=15\n",
      "              precision    recall  f1-score   support\n",
      "\n",
      "           0       1.00      1.00      1.00         7\n",
      "           1       1.00      0.91      0.95        11\n",
      "           2       0.92      1.00      0.96        12\n",
      "\n",
      "    accuracy                           0.97        30\n",
      "   macro avg       0.97      0.97      0.97        30\n",
      "weighted avg       0.97      0.97      0.97        30\n",
      "\n",
      "Kernel=linear, C=20\n",
      "              precision    recall  f1-score   support\n",
      "\n",
      "           0       1.00      1.00      1.00         7\n",
      "           1       1.00      0.91      0.95        11\n",
      "           2       0.92      1.00      0.96        12\n",
      "\n",
      "    accuracy                           0.97        30\n",
      "   macro avg       0.97      0.97      0.97        30\n",
      "weighted avg       0.97      0.97      0.97        30\n",
      "\n",
      "Kernel=poly, C=1\n",
      "              precision    recall  f1-score   support\n",
      "\n",
      "           0       1.00      1.00      1.00         7\n",
      "           1       1.00      0.91      0.95        11\n",
      "           2       0.92      1.00      0.96        12\n",
      "\n",
      "    accuracy                           0.97        30\n",
      "   macro avg       0.97      0.97      0.97        30\n",
      "weighted avg       0.97      0.97      0.97        30\n",
      "\n",
      "Kernel=poly, C=5\n",
      "              precision    recall  f1-score   support\n",
      "\n",
      "           0       1.00      1.00      1.00         7\n",
      "           1       1.00      0.91      0.95        11\n",
      "           2       0.92      1.00      0.96        12\n",
      "\n",
      "    accuracy                           0.97        30\n",
      "   macro avg       0.97      0.97      0.97        30\n",
      "weighted avg       0.97      0.97      0.97        30\n",
      "\n",
      "Kernel=poly, C=10\n",
      "              precision    recall  f1-score   support\n",
      "\n",
      "           0       1.00      1.00      1.00         7\n",
      "           1       1.00      0.91      0.95        11\n",
      "           2       0.92      1.00      0.96        12\n",
      "\n",
      "    accuracy                           0.97        30\n",
      "   macro avg       0.97      0.97      0.97        30\n",
      "weighted avg       0.97      0.97      0.97        30\n",
      "\n",
      "Kernel=poly, C=15\n",
      "              precision    recall  f1-score   support\n",
      "\n",
      "           0       1.00      1.00      1.00         7\n",
      "           1       1.00      0.91      0.95        11\n",
      "           2       0.92      1.00      0.96        12\n",
      "\n",
      "    accuracy                           0.97        30\n",
      "   macro avg       0.97      0.97      0.97        30\n",
      "weighted avg       0.97      0.97      0.97        30\n",
      "\n",
      "Kernel=poly, C=20\n",
      "              precision    recall  f1-score   support\n",
      "\n",
      "           0       1.00      1.00      1.00         7\n",
      "           1       1.00      0.91      0.95        11\n",
      "           2       0.92      1.00      0.96        12\n",
      "\n",
      "    accuracy                           0.97        30\n",
      "   macro avg       0.97      0.97      0.97        30\n",
      "weighted avg       0.97      0.97      0.97        30\n",
      "\n"
     ]
    }
   ],
   "source": [
    "# GridSearch kullanmadan, farklı hiper-parametreler için ayrı ayrı model oluşturup modelin test edilmesi\n",
    "kernels = ['rbf','linear','poly']\n",
    "C_params = [1, 5, 10, 15, 20]\n",
    "# for döngüsü\n",
    "for kernel in kernels:\n",
    "    for C in C_params:\n",
    "        svc = svm.SVC(kernel=kernel, C=C)\n",
    "        svc.fit(X_train,y_train)\n",
    "        tahminler = svc.predict(X_test)\n",
    "        print(f\"Kernel={kernel}, C={C}\")\n",
    "        print(classification_report(y_test,tahminler))\n",
    "        "
   ]
  },
  {
   "cell_type": "code",
   "execution_count": 37,
   "id": "576f6af0",
   "metadata": {},
   "outputs": [],
   "source": [
    "# GridSearch ile çözüm\n",
    "from sklearn.model_selection import GridSearchCV\n",
    "\n",
    "parametreler = {'kernel':['rbf','linear','poly'], 'C':[1, 5, 10, 15, 20]}\n",
    "svc = svm.SVC()\n",
    "clf = GridSearchCV(svc, parametreler)"
   ]
  },
  {
   "cell_type": "code",
   "execution_count": 42,
   "id": "3da00567",
   "metadata": {},
   "outputs": [
    {
     "data": {
      "text/plain": [
       "GridSearchCV(estimator=SVC(),\n",
       "             param_grid={'C': [1, 5, 10, 15, 20],\n",
       "                         'kernel': ['rbf', 'linear', 'poly']})"
      ]
     },
     "execution_count": 42,
     "metadata": {},
     "output_type": "execute_result"
    }
   ],
   "source": [
    "clf.fit(X_train,y_train)"
   ]
  },
  {
   "cell_type": "code",
   "execution_count": 44,
   "id": "d9039b7a",
   "metadata": {},
   "outputs": [
    {
     "data": {
      "text/plain": [
       "dict_keys(['mean_fit_time', 'std_fit_time', 'mean_score_time', 'std_score_time', 'param_C', 'param_kernel', 'params', 'split0_test_score', 'split1_test_score', 'split2_test_score', 'split3_test_score', 'split4_test_score', 'mean_test_score', 'std_test_score', 'rank_test_score'])"
      ]
     },
     "execution_count": 44,
     "metadata": {},
     "output_type": "execute_result"
    }
   ],
   "source": [
    "clf.cv_results_.keys()"
   ]
  },
  {
   "cell_type": "code",
   "execution_count": 45,
   "id": "547ba86d",
   "metadata": {},
   "outputs": [
    {
     "data": {
      "text/plain": [
       "SVC(C=1, kernel='linear')"
      ]
     },
     "execution_count": 45,
     "metadata": {},
     "output_type": "execute_result"
    }
   ],
   "source": [
    "clf.best_estimator_"
   ]
  },
  {
   "cell_type": "code",
   "execution_count": 46,
   "id": "50986074",
   "metadata": {},
   "outputs": [],
   "source": [
    "tahminler = clf.best_estimator_.predict(X_test)"
   ]
  },
  {
   "cell_type": "code",
   "execution_count": 47,
   "id": "badab2fe",
   "metadata": {},
   "outputs": [
    {
     "name": "stdout",
     "output_type": "stream",
     "text": [
      "              precision    recall  f1-score   support\n",
      "\n",
      "           0       1.00      1.00      1.00         7\n",
      "           1       1.00      0.91      0.95        11\n",
      "           2       0.92      1.00      0.96        12\n",
      "\n",
      "    accuracy                           0.97        30\n",
      "   macro avg       0.97      0.97      0.97        30\n",
      "weighted avg       0.97      0.97      0.97        30\n",
      "\n"
     ]
    }
   ],
   "source": [
    "print(classification_report(y_test,tahminler))"
   ]
  },
  {
   "cell_type": "code",
   "execution_count": null,
   "id": "3bda188a",
   "metadata": {},
   "outputs": [],
   "source": [
    "# Cross Validation\n",
    "# https://en.wikipedia.org/wiki/Cross-validation_(statistics)"
   ]
  },
  {
   "cell_type": "code",
   "execution_count": 48,
   "id": "76aaeec0",
   "metadata": {},
   "outputs": [
    {
     "data": {
      "text/plain": [
       "SVC(C=10, kernel='linear')"
      ]
     },
     "execution_count": 48,
     "metadata": {},
     "output_type": "execute_result"
    }
   ],
   "source": [
    "parametreler = {'kernel':['rbf','linear','poly'], 'C':[1, 5, 10, 15, 20]}\n",
    "svc = svm.SVC()\n",
    "clf = GridSearchCV(svc, parametreler, cv=7) # cv: Cross Validation=> default:5\n",
    "clf.fit(X, y)\n",
    "clf.best_estimator_"
   ]
  },
  {
   "cell_type": "code",
   "execution_count": 49,
   "id": "a072c386",
   "metadata": {},
   "outputs": [],
   "source": [
    "tahminler = clf.best_estimator_.predict(X_test)"
   ]
  },
  {
   "cell_type": "code",
   "execution_count": 50,
   "id": "fb07a78d",
   "metadata": {},
   "outputs": [
    {
     "name": "stdout",
     "output_type": "stream",
     "text": [
      "              precision    recall  f1-score   support\n",
      "\n",
      "           0       1.00      1.00      1.00         7\n",
      "           1       1.00      0.91      0.95        11\n",
      "           2       0.92      1.00      0.96        12\n",
      "\n",
      "    accuracy                           0.97        30\n",
      "   macro avg       0.97      0.97      0.97        30\n",
      "weighted avg       0.97      0.97      0.97        30\n",
      "\n"
     ]
    }
   ],
   "source": [
    "print(classification_report(y_test,tahminler))"
   ]
  },
  {
   "cell_type": "code",
   "execution_count": 51,
   "id": "f0fd71ae",
   "metadata": {},
   "outputs": [],
   "source": [
    "# Örnek-2"
   ]
  },
  {
   "cell_type": "code",
   "execution_count": 53,
   "id": "be985992",
   "metadata": {},
   "outputs": [],
   "source": [
    "import pandas as pd\n",
    "df = pd.read_csv(\"https://raw.githubusercontent.com/yasarkucukefe/YBS462/main/data/loan_data.csv\")"
   ]
  },
  {
   "cell_type": "code",
   "execution_count": 54,
   "id": "6c82737c",
   "metadata": {},
   "outputs": [],
   "source": [
    "df_final = pd.get_dummies(df, columns=['purpose'], drop_first=True)"
   ]
  },
  {
   "cell_type": "code",
   "execution_count": 55,
   "id": "5076b100",
   "metadata": {},
   "outputs": [],
   "source": [
    "y = df_final['not.fully.paid']\n",
    "X = df_final.drop('not.fully.paid',axis=1)"
   ]
  },
  {
   "cell_type": "code",
   "execution_count": 70,
   "id": "f5987c17",
   "metadata": {},
   "outputs": [],
   "source": [
    "X_train,X_test,y_train,y_test = train_test_split(X,y,test_size=0.30)"
   ]
  },
  {
   "cell_type": "code",
   "execution_count": 56,
   "id": "dfe80656",
   "metadata": {},
   "outputs": [
    {
     "data": {
      "text/html": [
       "<div>\n",
       "<style scoped>\n",
       "    .dataframe tbody tr th:only-of-type {\n",
       "        vertical-align: middle;\n",
       "    }\n",
       "\n",
       "    .dataframe tbody tr th {\n",
       "        vertical-align: top;\n",
       "    }\n",
       "\n",
       "    .dataframe thead th {\n",
       "        text-align: right;\n",
       "    }\n",
       "</style>\n",
       "<table border=\"1\" class=\"dataframe\">\n",
       "  <thead>\n",
       "    <tr style=\"text-align: right;\">\n",
       "      <th></th>\n",
       "      <th>credit.policy</th>\n",
       "      <th>int.rate</th>\n",
       "      <th>installment</th>\n",
       "      <th>log.annual.inc</th>\n",
       "      <th>dti</th>\n",
       "      <th>fico</th>\n",
       "      <th>days.with.cr.line</th>\n",
       "      <th>revol.bal</th>\n",
       "      <th>revol.util</th>\n",
       "      <th>inq.last.6mths</th>\n",
       "      <th>delinq.2yrs</th>\n",
       "      <th>pub.rec</th>\n",
       "      <th>purpose_credit_card</th>\n",
       "      <th>purpose_debt_consolidation</th>\n",
       "      <th>purpose_educational</th>\n",
       "      <th>purpose_home_improvement</th>\n",
       "      <th>purpose_major_purchase</th>\n",
       "      <th>purpose_small_business</th>\n",
       "    </tr>\n",
       "  </thead>\n",
       "  <tbody>\n",
       "    <tr>\n",
       "      <th>0</th>\n",
       "      <td>1</td>\n",
       "      <td>0.1189</td>\n",
       "      <td>829.10</td>\n",
       "      <td>11.350407</td>\n",
       "      <td>19.48</td>\n",
       "      <td>737</td>\n",
       "      <td>5639.958333</td>\n",
       "      <td>28854</td>\n",
       "      <td>52.1</td>\n",
       "      <td>0</td>\n",
       "      <td>0</td>\n",
       "      <td>0</td>\n",
       "      <td>0</td>\n",
       "      <td>1</td>\n",
       "      <td>0</td>\n",
       "      <td>0</td>\n",
       "      <td>0</td>\n",
       "      <td>0</td>\n",
       "    </tr>\n",
       "    <tr>\n",
       "      <th>1</th>\n",
       "      <td>1</td>\n",
       "      <td>0.1071</td>\n",
       "      <td>228.22</td>\n",
       "      <td>11.082143</td>\n",
       "      <td>14.29</td>\n",
       "      <td>707</td>\n",
       "      <td>2760.000000</td>\n",
       "      <td>33623</td>\n",
       "      <td>76.7</td>\n",
       "      <td>0</td>\n",
       "      <td>0</td>\n",
       "      <td>0</td>\n",
       "      <td>1</td>\n",
       "      <td>0</td>\n",
       "      <td>0</td>\n",
       "      <td>0</td>\n",
       "      <td>0</td>\n",
       "      <td>0</td>\n",
       "    </tr>\n",
       "    <tr>\n",
       "      <th>2</th>\n",
       "      <td>1</td>\n",
       "      <td>0.1357</td>\n",
       "      <td>366.86</td>\n",
       "      <td>10.373491</td>\n",
       "      <td>11.63</td>\n",
       "      <td>682</td>\n",
       "      <td>4710.000000</td>\n",
       "      <td>3511</td>\n",
       "      <td>25.6</td>\n",
       "      <td>1</td>\n",
       "      <td>0</td>\n",
       "      <td>0</td>\n",
       "      <td>0</td>\n",
       "      <td>1</td>\n",
       "      <td>0</td>\n",
       "      <td>0</td>\n",
       "      <td>0</td>\n",
       "      <td>0</td>\n",
       "    </tr>\n",
       "    <tr>\n",
       "      <th>3</th>\n",
       "      <td>1</td>\n",
       "      <td>0.1008</td>\n",
       "      <td>162.34</td>\n",
       "      <td>11.350407</td>\n",
       "      <td>8.10</td>\n",
       "      <td>712</td>\n",
       "      <td>2699.958333</td>\n",
       "      <td>33667</td>\n",
       "      <td>73.2</td>\n",
       "      <td>1</td>\n",
       "      <td>0</td>\n",
       "      <td>0</td>\n",
       "      <td>0</td>\n",
       "      <td>1</td>\n",
       "      <td>0</td>\n",
       "      <td>0</td>\n",
       "      <td>0</td>\n",
       "      <td>0</td>\n",
       "    </tr>\n",
       "    <tr>\n",
       "      <th>4</th>\n",
       "      <td>1</td>\n",
       "      <td>0.1426</td>\n",
       "      <td>102.92</td>\n",
       "      <td>11.299732</td>\n",
       "      <td>14.97</td>\n",
       "      <td>667</td>\n",
       "      <td>4066.000000</td>\n",
       "      <td>4740</td>\n",
       "      <td>39.5</td>\n",
       "      <td>0</td>\n",
       "      <td>1</td>\n",
       "      <td>0</td>\n",
       "      <td>1</td>\n",
       "      <td>0</td>\n",
       "      <td>0</td>\n",
       "      <td>0</td>\n",
       "      <td>0</td>\n",
       "      <td>0</td>\n",
       "    </tr>\n",
       "  </tbody>\n",
       "</table>\n",
       "</div>"
      ],
      "text/plain": [
       "   credit.policy  int.rate  installment  log.annual.inc    dti  fico  \\\n",
       "0              1    0.1189       829.10       11.350407  19.48   737   \n",
       "1              1    0.1071       228.22       11.082143  14.29   707   \n",
       "2              1    0.1357       366.86       10.373491  11.63   682   \n",
       "3              1    0.1008       162.34       11.350407   8.10   712   \n",
       "4              1    0.1426       102.92       11.299732  14.97   667   \n",
       "\n",
       "   days.with.cr.line  revol.bal  revol.util  inq.last.6mths  delinq.2yrs  \\\n",
       "0        5639.958333      28854        52.1               0            0   \n",
       "1        2760.000000      33623        76.7               0            0   \n",
       "2        4710.000000       3511        25.6               1            0   \n",
       "3        2699.958333      33667        73.2               1            0   \n",
       "4        4066.000000       4740        39.5               0            1   \n",
       "\n",
       "   pub.rec  purpose_credit_card  purpose_debt_consolidation  \\\n",
       "0        0                    0                           1   \n",
       "1        0                    1                           0   \n",
       "2        0                    0                           1   \n",
       "3        0                    0                           1   \n",
       "4        0                    1                           0   \n",
       "\n",
       "   purpose_educational  purpose_home_improvement  purpose_major_purchase  \\\n",
       "0                    0                         0                       0   \n",
       "1                    0                         0                       0   \n",
       "2                    0                         0                       0   \n",
       "3                    0                         0                       0   \n",
       "4                    0                         0                       0   \n",
       "\n",
       "   purpose_small_business  \n",
       "0                       0  \n",
       "1                       0  \n",
       "2                       0  \n",
       "3                       0  \n",
       "4                       0  "
      ]
     },
     "execution_count": 56,
     "metadata": {},
     "output_type": "execute_result"
    }
   ],
   "source": [
    "X.head()"
   ]
  },
  {
   "cell_type": "code",
   "execution_count": 58,
   "id": "9ef35a16",
   "metadata": {},
   "outputs": [],
   "source": [
    "from sklearn.ensemble import RandomForestClassifier"
   ]
  },
  {
   "cell_type": "code",
   "execution_count": 59,
   "id": "92483432",
   "metadata": {},
   "outputs": [],
   "source": [
    "rf = RandomForestClassifier()"
   ]
  },
  {
   "cell_type": "code",
   "execution_count": 71,
   "id": "76b0912f",
   "metadata": {},
   "outputs": [],
   "source": [
    "params = {'n_estimators':[10, 100, 200], 'criterion':['gini','entropy'], 'min_samples_split':[2,3,4]} # 3 * 2 * 3 = 18 model"
   ]
  },
  {
   "cell_type": "code",
   "execution_count": 72,
   "id": "e073e050",
   "metadata": {},
   "outputs": [],
   "source": [
    "clf = GridSearchCV(rf, params, verbose=2)"
   ]
  },
  {
   "cell_type": "code",
   "execution_count": 73,
   "id": "7ac9bf6d",
   "metadata": {},
   "outputs": [
    {
     "name": "stdout",
     "output_type": "stream",
     "text": [
      "Fitting 5 folds for each of 18 candidates, totalling 90 fits\n",
      "[CV] END criterion=gini, min_samples_split=2, n_estimators=10; total time=   0.1s\n",
      "[CV] END criterion=gini, min_samples_split=2, n_estimators=10; total time=   0.1s\n",
      "[CV] END criterion=gini, min_samples_split=2, n_estimators=10; total time=   0.0s\n",
      "[CV] END criterion=gini, min_samples_split=2, n_estimators=10; total time=   0.1s\n",
      "[CV] END criterion=gini, min_samples_split=2, n_estimators=10; total time=   0.1s\n",
      "[CV] END criterion=gini, min_samples_split=2, n_estimators=100; total time=   1.4s\n",
      "[CV] END criterion=gini, min_samples_split=2, n_estimators=100; total time=   1.4s\n",
      "[CV] END criterion=gini, min_samples_split=2, n_estimators=100; total time=   1.6s\n",
      "[CV] END criterion=gini, min_samples_split=2, n_estimators=100; total time=   1.7s\n",
      "[CV] END criterion=gini, min_samples_split=2, n_estimators=100; total time=   1.6s\n",
      "[CV] END criterion=gini, min_samples_split=2, n_estimators=200; total time=   3.5s\n",
      "[CV] END criterion=gini, min_samples_split=2, n_estimators=200; total time=   3.6s\n",
      "[CV] END criterion=gini, min_samples_split=2, n_estimators=200; total time=   3.3s\n",
      "[CV] END criterion=gini, min_samples_split=2, n_estimators=200; total time=   3.7s\n",
      "[CV] END criterion=gini, min_samples_split=2, n_estimators=200; total time=   3.1s\n",
      "[CV] END criterion=gini, min_samples_split=3, n_estimators=10; total time=   0.1s\n",
      "[CV] END criterion=gini, min_samples_split=3, n_estimators=10; total time=   0.1s\n",
      "[CV] END criterion=gini, min_samples_split=3, n_estimators=10; total time=   0.1s\n",
      "[CV] END criterion=gini, min_samples_split=3, n_estimators=10; total time=   0.1s\n",
      "[CV] END criterion=gini, min_samples_split=3, n_estimators=10; total time=   0.1s\n",
      "[CV] END criterion=gini, min_samples_split=3, n_estimators=100; total time=   1.5s\n",
      "[CV] END criterion=gini, min_samples_split=3, n_estimators=100; total time=   1.8s\n",
      "[CV] END criterion=gini, min_samples_split=3, n_estimators=100; total time=   1.5s\n",
      "[CV] END criterion=gini, min_samples_split=3, n_estimators=100; total time=   2.0s\n",
      "[CV] END criterion=gini, min_samples_split=3, n_estimators=100; total time=   1.6s\n",
      "[CV] END criterion=gini, min_samples_split=3, n_estimators=200; total time=   3.6s\n",
      "[CV] END criterion=gini, min_samples_split=3, n_estimators=200; total time=   3.5s\n",
      "[CV] END criterion=gini, min_samples_split=3, n_estimators=200; total time=   3.7s\n",
      "[CV] END criterion=gini, min_samples_split=3, n_estimators=200; total time=   4.3s\n",
      "[CV] END criterion=gini, min_samples_split=3, n_estimators=200; total time=   3.2s\n",
      "[CV] END criterion=gini, min_samples_split=4, n_estimators=10; total time=   0.1s\n",
      "[CV] END criterion=gini, min_samples_split=4, n_estimators=10; total time=   0.1s\n",
      "[CV] END criterion=gini, min_samples_split=4, n_estimators=10; total time=   0.1s\n",
      "[CV] END criterion=gini, min_samples_split=4, n_estimators=10; total time=   0.1s\n",
      "[CV] END criterion=gini, min_samples_split=4, n_estimators=10; total time=   0.1s\n",
      "[CV] END criterion=gini, min_samples_split=4, n_estimators=100; total time=   1.6s\n",
      "[CV] END criterion=gini, min_samples_split=4, n_estimators=100; total time=   1.9s\n",
      "[CV] END criterion=gini, min_samples_split=4, n_estimators=100; total time=   1.7s\n",
      "[CV] END criterion=gini, min_samples_split=4, n_estimators=100; total time=   1.3s\n",
      "[CV] END criterion=gini, min_samples_split=4, n_estimators=100; total time=   2.0s\n",
      "[CV] END criterion=gini, min_samples_split=4, n_estimators=200; total time=   4.0s\n",
      "[CV] END criterion=gini, min_samples_split=4, n_estimators=200; total time=   3.6s\n",
      "[CV] END criterion=gini, min_samples_split=4, n_estimators=200; total time=   3.3s\n",
      "[CV] END criterion=gini, min_samples_split=4, n_estimators=200; total time=   3.3s\n",
      "[CV] END criterion=gini, min_samples_split=4, n_estimators=200; total time=   2.9s\n",
      "[CV] END criterion=entropy, min_samples_split=2, n_estimators=10; total time=   0.2s\n",
      "[CV] END criterion=entropy, min_samples_split=2, n_estimators=10; total time=   0.2s\n",
      "[CV] END criterion=entropy, min_samples_split=2, n_estimators=10; total time=   0.1s\n",
      "[CV] END criterion=entropy, min_samples_split=2, n_estimators=10; total time=   0.2s\n",
      "[CV] END criterion=entropy, min_samples_split=2, n_estimators=10; total time=   0.2s\n",
      "[CV] END criterion=entropy, min_samples_split=2, n_estimators=100; total time=   2.5s\n",
      "[CV] END criterion=entropy, min_samples_split=2, n_estimators=100; total time=   2.6s\n",
      "[CV] END criterion=entropy, min_samples_split=2, n_estimators=100; total time=   2.5s\n",
      "[CV] END criterion=entropy, min_samples_split=2, n_estimators=100; total time=   2.7s\n",
      "[CV] END criterion=entropy, min_samples_split=2, n_estimators=100; total time=   2.7s\n",
      "[CV] END criterion=entropy, min_samples_split=2, n_estimators=200; total time=   4.8s\n",
      "[CV] END criterion=entropy, min_samples_split=2, n_estimators=200; total time=   4.5s\n",
      "[CV] END criterion=entropy, min_samples_split=2, n_estimators=200; total time=   4.4s\n",
      "[CV] END criterion=entropy, min_samples_split=2, n_estimators=200; total time=   5.2s\n",
      "[CV] END criterion=entropy, min_samples_split=2, n_estimators=200; total time=   4.9s\n",
      "[CV] END criterion=entropy, min_samples_split=3, n_estimators=10; total time=   0.1s\n",
      "[CV] END criterion=entropy, min_samples_split=3, n_estimators=10; total time=   0.1s\n",
      "[CV] END criterion=entropy, min_samples_split=3, n_estimators=10; total time=   0.2s\n",
      "[CV] END criterion=entropy, min_samples_split=3, n_estimators=10; total time=   0.2s\n",
      "[CV] END criterion=entropy, min_samples_split=3, n_estimators=10; total time=   0.2s\n",
      "[CV] END criterion=entropy, min_samples_split=3, n_estimators=100; total time=   2.3s\n",
      "[CV] END criterion=entropy, min_samples_split=3, n_estimators=100; total time=   2.0s\n",
      "[CV] END criterion=entropy, min_samples_split=3, n_estimators=100; total time=   2.3s\n",
      "[CV] END criterion=entropy, min_samples_split=3, n_estimators=100; total time=   2.3s\n",
      "[CV] END criterion=entropy, min_samples_split=3, n_estimators=100; total time=   2.1s\n",
      "[CV] END criterion=entropy, min_samples_split=3, n_estimators=200; total time=   4.3s\n",
      "[CV] END criterion=entropy, min_samples_split=3, n_estimators=200; total time=   4.5s\n",
      "[CV] END criterion=entropy, min_samples_split=3, n_estimators=200; total time=   4.1s\n",
      "[CV] END criterion=entropy, min_samples_split=3, n_estimators=200; total time=   4.6s\n",
      "[CV] END criterion=entropy, min_samples_split=3, n_estimators=200; total time=   4.6s\n",
      "[CV] END criterion=entropy, min_samples_split=4, n_estimators=10; total time=   0.1s\n",
      "[CV] END criterion=entropy, min_samples_split=4, n_estimators=10; total time=   0.1s\n",
      "[CV] END criterion=entropy, min_samples_split=4, n_estimators=10; total time=   0.2s\n",
      "[CV] END criterion=entropy, min_samples_split=4, n_estimators=10; total time=   0.1s\n",
      "[CV] END criterion=entropy, min_samples_split=4, n_estimators=10; total time=   0.2s\n",
      "[CV] END criterion=entropy, min_samples_split=4, n_estimators=100; total time=   2.2s\n",
      "[CV] END criterion=entropy, min_samples_split=4, n_estimators=100; total time=   2.1s\n",
      "[CV] END criterion=entropy, min_samples_split=4, n_estimators=100; total time=   2.0s\n",
      "[CV] END criterion=entropy, min_samples_split=4, n_estimators=100; total time=   2.1s\n",
      "[CV] END criterion=entropy, min_samples_split=4, n_estimators=100; total time=   2.3s\n",
      "[CV] END criterion=entropy, min_samples_split=4, n_estimators=200; total time=   4.3s\n",
      "[CV] END criterion=entropy, min_samples_split=4, n_estimators=200; total time=   4.9s\n",
      "[CV] END criterion=entropy, min_samples_split=4, n_estimators=200; total time=   5.6s\n",
      "[CV] END criterion=entropy, min_samples_split=4, n_estimators=200; total time=   4.4s\n",
      "[CV] END criterion=entropy, min_samples_split=4, n_estimators=200; total time=   4.8s\n"
     ]
    },
    {
     "data": {
      "text/plain": [
       "GridSearchCV(estimator=RandomForestClassifier(),\n",
       "             param_grid={'criterion': ['gini', 'entropy'],\n",
       "                         'min_samples_split': [2, 3, 4],\n",
       "                         'n_estimators': [10, 100, 200]},\n",
       "             verbose=2)"
      ]
     },
     "execution_count": 73,
     "metadata": {},
     "output_type": "execute_result"
    }
   ],
   "source": [
    "clf.fit(X_train,y_train)"
   ]
  },
  {
   "cell_type": "code",
   "execution_count": 75,
   "id": "4afbb08d",
   "metadata": {},
   "outputs": [
    {
     "data": {
      "text/plain": [
       "RandomForestClassifier(min_samples_split=4, n_estimators=200)"
      ]
     },
     "execution_count": 75,
     "metadata": {},
     "output_type": "execute_result"
    }
   ],
   "source": [
    "clf.best_estimator_"
   ]
  },
  {
   "cell_type": "code",
   "execution_count": 74,
   "id": "2f0caf1e",
   "metadata": {},
   "outputs": [
    {
     "data": {
      "text/plain": [
       "{'criterion': 'gini', 'min_samples_split': 4, 'n_estimators': 200}"
      ]
     },
     "execution_count": 74,
     "metadata": {},
     "output_type": "execute_result"
    }
   ],
   "source": [
    "clf.best_params_"
   ]
  },
  {
   "cell_type": "code",
   "execution_count": 78,
   "id": "ab76f630",
   "metadata": {},
   "outputs": [],
   "source": [
    "tahminler = clf.best_estimator_.predict(X_test)"
   ]
  },
  {
   "cell_type": "code",
   "execution_count": 79,
   "id": "a0e7c481",
   "metadata": {},
   "outputs": [
    {
     "name": "stdout",
     "output_type": "stream",
     "text": [
      "              precision    recall  f1-score   support\n",
      "\n",
      "           0       0.85      1.00      0.92      2430\n",
      "           1       0.43      0.02      0.04       444\n",
      "\n",
      "    accuracy                           0.84      2874\n",
      "   macro avg       0.64      0.51      0.48      2874\n",
      "weighted avg       0.78      0.84      0.78      2874\n",
      "\n"
     ]
    }
   ],
   "source": [
    "print(classification_report(y_test,tahminler))"
   ]
  },
  {
   "cell_type": "code",
   "execution_count": 81,
   "id": "e2e76fc1",
   "metadata": {},
   "outputs": [],
   "source": [
    "from sklearn.metrics import confusion_matrix"
   ]
  },
  {
   "cell_type": "code",
   "execution_count": 82,
   "id": "ebe12939",
   "metadata": {
    "scrolled": true
   },
   "outputs": [
    {
     "name": "stdout",
     "output_type": "stream",
     "text": [
      "[[2418   12]\n",
      " [ 435    9]]\n"
     ]
    }
   ],
   "source": [
    "print(confusion_matrix(y_test,tahminler))"
   ]
  },
  {
   "cell_type": "code",
   "execution_count": null,
   "id": "35a71ea7",
   "metadata": {},
   "outputs": [],
   "source": []
  }
 ],
 "metadata": {
  "kernelspec": {
   "display_name": "Python 3 (ipykernel)",
   "language": "python",
   "name": "python3"
  },
  "language_info": {
   "codemirror_mode": {
    "name": "ipython",
    "version": 3
   },
   "file_extension": ".py",
   "mimetype": "text/x-python",
   "name": "python",
   "nbconvert_exporter": "python",
   "pygments_lexer": "ipython3",
   "version": "3.9.5"
  }
 },
 "nbformat": 4,
 "nbformat_minor": 5
}
